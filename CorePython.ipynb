{
 "cells": [
  {
   "cell_type": "markdown",
   "metadata": {},
   "source": [
    "# 1. History of Python:\n",
    "\n",
    "**Under the leadership of “Andrew Stuart Tanenbaum” a group of employees developed Distributed Operating System. They used ABC scripting language. The ABC scripting language Is simple and easy to work. “Guido Van Rossum” is a member in that group. In the Christmas holidays, he started developing a new language to be simple and easy compared to ABC. Finally, he developed python in National Research Institute for Mathematics and Computer Science in Netherlands in 1989 and named as “PYTHON”**\n",
    "\n",
    "\n",
    "•\tPython 1.0 was released in 1994\n",
    "•\tPython 2.0 was released in 2000 (python2)\n",
    "•\tPython 3.0 was released in 2008 (python3)\n",
    "•\tPython is a general-purpose high-level programming language\n",
    "•\tRossum has taken concepts from different programming languages\n",
    "•\tScripting based applications will run by interpreter and not required explicit compilation\n",
    "•\tExamples of scripting languages are shell scripting, python, Perl, ruby etc. all these languages run by interpreter. So, we called them as scripting languages.\n",
    "•\tProgramming language bases applications will run by compiler\n",
    "•\tProgramming languages cannot run without compilation\n",
    "\n"
   ]
  },
  {
   "cell_type": "markdown",
   "metadata": {},
   "source": [
    "# 2. Different languages which are used to develop python\n",
    "\n",
    "Procedural programing language: c\n",
    "•\tObject Orient Programming languages Java and C++\n",
    "•\tScripting languages: Perl and shell scripting\n",
    "•\tModular programming: Module3\n"
   ]
  },
  {
   "cell_type": "markdown",
   "metadata": {},
   "source": [
    "# 3. Features of Python\n",
    "**\n",
    "•\tPython is simple and powerful language. The syntax of python is very simple and easy to remember\n",
    "•\tReading a python is same as reading English\n",
    "•\tUsing python, developers can easily express their business logic within a smaller number of lines\n",
    "•\tPython has few keywords, simple structure and clearly defined syntax. \n",
    "•\tPython has rich libraries to support Web applications, Scientific and other types of applications\n",
    "•\tPython is portable\n",
    "•\tThe memory allocation will happen dynamically when you run the application\n",
    "•\tInteractive language\n",
    "•\tSupports all major commercial databases\n",
    "•\tSupports GUI applications\n",
    "•\tSupport Gaming applications\n",
    "•\tSupports scientific applications\n",
    "•\tNetwork applications\n",
    "•\tAnimation apps\n",
    "**"
   ]
  },
  {
   "cell_type": "markdown",
   "metadata": {},
   "source": [
    "# 4.Python Identifiers\n",
    "•\tA python identifier is a name used to identify a variable, function, class, module.\n",
    "•\tAn identifier will start with A-Z or a-z or 0-9. \n",
    "•\tReserve keywords cannot used as identifiers\n"
   ]
  },
  {
   "cell_type": "code",
   "execution_count": 1,
   "metadata": {},
   "outputs": [
    {
     "ename": "NameError",
     "evalue": "name 'A' is not defined",
     "output_type": "error",
     "traceback": [
      "\u001b[1;31m---------------------------------------------------------------------------\u001b[0m",
      "\u001b[1;31mNameError\u001b[0m                                 Traceback (most recent call last)",
      "\u001b[1;32m<ipython-input-1-e6da6a061486>\u001b[0m in \u001b[0;36m<module>\u001b[1;34m\u001b[0m\n\u001b[0;32m      1\u001b[0m \u001b[1;31m#examples\u001b[0m\u001b[1;33m\u001b[0m\u001b[1;33m\u001b[0m\u001b[1;33m\u001b[0m\u001b[0m\n\u001b[0;32m      2\u001b[0m \u001b[0ma\u001b[0m\u001b[1;33m=\u001b[0m\u001b[1;36m100\u001b[0m\u001b[1;33m\u001b[0m\u001b[1;33m\u001b[0m\u001b[0m\n\u001b[1;32m----> 3\u001b[1;33m \u001b[0mprint\u001b[0m\u001b[1;33m(\u001b[0m\u001b[0mA\u001b[0m\u001b[1;33m)\u001b[0m\u001b[1;33m\u001b[0m\u001b[1;33m\u001b[0m\u001b[0m\n\u001b[0m",
      "\u001b[1;31mNameError\u001b[0m: name 'A' is not defined"
     ]
    }
   ],
   "source": [
    "#examples\n",
    "a=100\n",
    "print(A)"
   ]
  },
  {
   "cell_type": "code",
   "execution_count": 3,
   "metadata": {},
   "outputs": [
    {
     "name": "stdout",
     "output_type": "stream",
     "text": [
      "100 200\n"
     ]
    }
   ],
   "source": [
    "a=100\n",
    "b=200\n",
    "print(a,b)\n",
    "\n"
   ]
  },
  {
   "cell_type": "code",
   "execution_count": 8,
   "metadata": {},
   "outputs": [
    {
     "name": "stdout",
     "output_type": "stream",
     "text": [
      "10\n",
      "<class 'int'>\n"
     ]
    }
   ],
   "source": [
    "name=10\n",
    "print(name)\n",
    "print(type(name))"
   ]
  },
  {
   "cell_type": "markdown",
   "metadata": {},
   "source": [
    "# 5. Python Keywords\n",
    "The keywords in python having predefined functionality. Keywords cannot be used as variables or constants."
   ]
  },
  {
   "cell_type": "code",
   "execution_count": 6,
   "metadata": {},
   "outputs": [
    {
     "data": {
      "text/plain": [
       "['False',\n",
       " 'None',\n",
       " 'True',\n",
       " 'and',\n",
       " 'as',\n",
       " 'assert',\n",
       " 'async',\n",
       " 'await',\n",
       " 'break',\n",
       " 'class',\n",
       " 'continue',\n",
       " 'def',\n",
       " 'del',\n",
       " 'elif',\n",
       " 'else',\n",
       " 'except',\n",
       " 'finally',\n",
       " 'for',\n",
       " 'from',\n",
       " 'global',\n",
       " 'if',\n",
       " 'import',\n",
       " 'in',\n",
       " 'is',\n",
       " 'lambda',\n",
       " 'nonlocal',\n",
       " 'not',\n",
       " 'or',\n",
       " 'pass',\n",
       " 'raise',\n",
       " 'return',\n",
       " 'try',\n",
       " 'while',\n",
       " 'with',\n",
       " 'yield']"
      ]
     },
     "execution_count": 6,
     "metadata": {},
     "output_type": "execute_result"
    }
   ],
   "source": [
    "#To see all the keywords:\n",
    "import keyword\n",
    "keyword.kwlist"
   ]
  },
  {
   "cell_type": "markdown",
   "metadata": {},
   "source": [
    "# 6. Indentation\n",
    "One of the most distinctive features of Python is Indentation. Generally, we will use curly braces in other programming languages to indicate block of code. The number of spaces in the indentation is variable, but all statements within the block must be indented the same amount. "
   ]
  },
  {
   "cell_type": "code",
   "execution_count": 10,
   "metadata": {},
   "outputs": [
    {
     "name": "stdout",
     "output_type": "stream",
     "text": [
      "He is Opener Batsman\n",
      "Indentation\n"
     ]
    }
   ],
   "source": [
    "# Python program showing\n",
    "# indentation\n",
    "name = 'Sehwag'\n",
    "if name == 'Sehwag'{\n",
    "    print('He is Opener Batsman')\n",
    "}\n",
    "else\n",
    "{\n",
    "    print('He is Bowler')\n",
    "}\n",
    "print('Indentation')\n"
   ]
  },
  {
   "cell_type": "markdown",
   "metadata": {},
   "source": [
    "# 7. Basic Functions\n",
    "Python supports many functions. But, below 3 are the few functions.\n",
    "Print(): This function displays the output on the screen\n",
    "Type(): This function checks the datatype of specific variable\n",
    "Id(): This function gives address of variable"
   ]
  },
  {
   "cell_type": "markdown",
   "metadata": {},
   "source": [
    "# 8. Variable Declaration\n",
    "Here we can assign single vale or multiple values at a time."
   ]
  },
  {
   "cell_type": "code",
   "execution_count": 11,
   "metadata": {},
   "outputs": [
    {
     "name": "stdout",
     "output_type": "stream",
     "text": [
      "10\n",
      "<class 'int'>\n",
      "140717584655024\n"
     ]
    }
   ],
   "source": [
    "a=10\n",
    "print(a)\n",
    "print(type(a))\n",
    "print(id(a))"
   ]
  },
  {
   "cell_type": "code",
   "execution_count": 12,
   "metadata": {},
   "outputs": [
    {
     "name": "stdout",
     "output_type": "stream",
     "text": [
      "100\n",
      "<class 'int'>\n",
      "140717584657904\n",
      "20.5\n",
      "<class 'float'>\n",
      "2290292561104\n",
      "Shakeer\n",
      "<class 'str'>\n",
      "2290295574896\n"
     ]
    }
   ],
   "source": [
    "#Another type of declaration\n",
    "\n",
    "a,b,c = 100,20.5,\"Shakeer\"\n",
    "print(a)\n",
    "print(type(a))\n",
    "print(id(a))\n",
    "print(b)\n",
    "print(type(b))\n",
    "print(id(b))\n",
    "print(c)\n",
    "print(type(c))\n",
    "print(id(c))\n"
   ]
  },
  {
   "cell_type": "code",
   "execution_count": 13,
   "metadata": {},
   "outputs": [
    {
     "name": "stdout",
     "output_type": "stream",
     "text": [
      "BigdataTrends\n",
      "BigdataTrends\n",
      "BigdataTrends\n"
     ]
    }
   ],
   "source": [
    "#Another type of declaration\n",
    "\n",
    "a=b=c=\"BigdataTrends\"\n",
    "print(a)\n",
    "print(b)\n",
    "print(c)\n"
   ]
  },
  {
   "cell_type": "code",
   "execution_count": 16,
   "metadata": {},
   "outputs": [
    {
     "name": "stdout",
     "output_type": "stream",
     "text": [
      "my name is Shakeer\n",
      "my job is Software Developer\n",
      "my fav car is Maruthi Suzuki SCROSS\n",
      "car cost is 1000\n"
     ]
    }
   ],
   "source": [
    "#Examples on variables\n",
    "\n",
    "myname =\"Shakeer\"\n",
    "myjob =\"Software Developer\"\n",
    "car ='Maruthi Suzuki SCROSS'\n",
    "cost =1000 ## INR\n",
    "\n",
    "\n",
    "print(\"my name is %s\" %myname)\n",
    "print(\"my job is %s\"%myjob)\n",
    "print(\"my fav car is %s\"%car)\n",
    "print(\"car cost is %d\"%cost)"
   ]
  },
  {
   "cell_type": "code",
   "execution_count": 17,
   "metadata": {},
   "outputs": [
    {
     "name": "stdout",
     "output_type": "stream",
     "text": [
      "course name is : MCA\n"
     ]
    }
   ],
   "source": [
    "course='MCA'\n",
    "fees =2000\n",
    "print('course name is :',course)"
   ]
  },
  {
   "cell_type": "code",
   "execution_count": 2,
   "metadata": {},
   "outputs": [
    {
     "name": "stdout",
     "output_type": "stream",
     "text": [
      "my name is Shakeer He is super\n",
      "my total salary is 1500\n"
     ]
    }
   ],
   "source": [
    "Empno=37893\n",
    "Ename = \"Shakeer\"\n",
    "Job = \"Hadoop Developer\"\n",
    "byhandsalary =1000\n",
    "totalsalary=2000\n",
    "tax=1000*10/100\n",
    "hike =totalsalary*0.10\n",
    "comm = 500\n",
    "netsal=comm+byhandsalary\n",
    "print(\"my name is\", Ename, \"He is super\")\n",
    "print(\"my total salary is\",netsal)"
   ]
  },
  {
   "cell_type": "markdown",
   "metadata": {},
   "source": [
    "# 9. Data Types in Python\n",
    "  1) Int: \n",
    "     We can use to represent the whole/integral numbers.\n",
    "     Immutable.\n",
    "     Example: A=10\n",
    "  2) Float:\n",
    "    We can use to represent the decimal/floating point numbers.\n",
    "    Immutable.\n",
    "    Example:B=3.5\n",
    "  3) Complex:\n",
    "    We can use to represent the complex numbers.\n",
    "    Immutable.\n",
    "    Example: 100+45k\n",
    "  4) Bool:\n",
    "    We can use to represent the logical values(Only allowed values are True and False)\n",
    "    Example: a= TRUE\n",
    "  5) str:\n",
    "     To represent sequence of Characters.\n",
    "     Example:s='Bigdata' \n",
    "  6) bytes:\n",
    "     To represent a sequence of byte values from 0-255.\n",
    "     Example: \n",
    "     list=[1,2,3,4]\n",
    "     b=bytes(list)\n",
    "     type(b) \n",
    "     \n",
    "   7) Range: \n",
    "      To represent a range of values.\n",
    "      Example:\n",
    "      r=range(10) \n",
    "      r1=range(0,10) \n",
    "      r2=range(0,10,2)\n",
    "   8) List:\n",
    "      To represent an ordered collection of objects.\n",
    "      Mutable.\n",
    "      lst=[10,11,12,13,14,15] \n",
    "    \n",
    "    9) Set:\n",
    "       To represent an unordered collection of unique objects.\n",
    "       Mutable.\n",
    "       Example: s={1,2,3,4,5,6} \n",
    "    10) Tuple:\n",
    "        To represent an ordered collections of objects.\n",
    "        Immutable\n",
    "        Example:\n",
    "        t=(1,2,3,4,5)\n",
    "     11) frozenset:\n",
    "         To represent an unordered collection of unique objects.\n",
    "         Immutable.\n",
    "         s={11,2,3,'D',100,'Ramu'} \n",
    "         fs=frozenset(s)\n",
    "         \n",
    "      12) Dict:\n",
    "           To represent a group of key value pairs.\n",
    "           d={101:'ss’,102:'ramu',103:'hari'} \n",
    "           type(d) "
   ]
  },
  {
   "cell_type": "code",
   "execution_count": 18,
   "metadata": {},
   "outputs": [
    {
     "data": {
      "text/plain": [
       "bytes"
      ]
     },
     "execution_count": 18,
     "metadata": {},
     "output_type": "execute_result"
    }
   ],
   "source": [
    "list=[1,2,3,4]\n",
    "b=bytes(list)\n",
    "type(b) "
   ]
  },
  {
   "cell_type": "code",
   "execution_count": 24,
   "metadata": {
    "scrolled": true
   },
   "outputs": [
    {
     "name": "stdout",
     "output_type": "stream",
     "text": [
      "<class 'list'>\n",
      "<class 'set'>\n",
      "{1, 2, 3, 4, 5, 6}\n"
     ]
    }
   ],
   "source": [
    "lst=[10,11,12,13,14,15] \n",
    "print(type(lst))\n",
    "s={1,2,3,4,5,6,6} \n",
    "print(type(s))\n",
    "print(s)"
   ]
  },
  {
   "cell_type": "markdown",
   "metadata": {},
   "source": [
    "# 10. Operators in Python\n",
    "\n",
    "Operator is a symbol that performs certain operations. Python provides the following set of operators \n",
    " \n",
    "1.  Arithmetic Operators \n",
    "2.  Relational Operators or Comparison Operators \n",
    "3.  Logical operators \n",
    "4.  Bitwise operators \n",
    "5.  Assignment operators \n",
    "6.  Special operators\n"
   ]
  },
  {
   "cell_type": "markdown",
   "metadata": {},
   "source": [
    "# 11. Arithmetic Operators\n",
    "\n",
    "+ ==>Addition \n",
    "- ==>Subtraction \n",
    "* ==>Multiplication \n",
    "/ ==>Division operator \n",
    "% ==>Modulo operator \n",
    "// ==>Floor Division operator \n",
    "** ==>Exponent operator or power operator \n"
   ]
  },
  {
   "cell_type": "code",
   "execution_count": 5,
   "metadata": {},
   "outputs": [
    {
     "name": "stdout",
     "output_type": "stream",
     "text": [
      "a+b= 30\n",
      "a-b= -10\n",
      "a*b= 200\n",
      "a/b= 0.5\n",
      "a//b= 0\n",
      "a%b= 10\n",
      "a**b= 100000000000000000000\n"
     ]
    }
   ],
   "source": [
    "#example\n",
    "a=10   \n",
    "b=20  \n",
    "print('a+b=',a+b)   \n",
    "print('a-b=',a-b)   \n",
    "print('a*b=',a*b)   \n",
    "print('a/b=',a/b)   \n",
    "print('a//b=',a//b)   \n",
    "print('a%b=',a%b)   \n",
    "print('a**b=',a**b)"
   ]
  },
  {
   "cell_type": "markdown",
   "metadata": {},
   "source": [
    "# 12. Relational Operators\n",
    ">\n",
    ">=\n",
    "<\n",
    "<= "
   ]
  },
  {
   "cell_type": "code",
   "execution_count": 25,
   "metadata": {},
   "outputs": [
    {
     "name": "stdout",
     "output_type": "stream",
     "text": [
      "a > b is  False\n",
      "a >= b is  False\n",
      "a < b is  True\n",
      "a <= b is  True\n"
     ]
    }
   ],
   "source": [
    "#example:\n",
    "a=100  \n",
    "b=200   \n",
    "print(\"a > b is \",a>b)   \n",
    "print(\"a >= b is \",a>=b)   \n",
    "print(\"a < b is \",a<b)   \n",
    "print(\"a <= b is \",a<=b)   \n"
   ]
  },
  {
   "cell_type": "code",
   "execution_count": 7,
   "metadata": {},
   "outputs": [
    {
     "name": "stdout",
     "output_type": "stream",
     "text": [
      "a > b is  False\n",
      "a >= b is  False\n",
      "a < b is  True\n",
      "a <= b is  True\n"
     ]
    }
   ],
   "source": [
    "#We can apply relational operators for str types also.\n",
    "\n",
    "a=\"Hadoop\"   \n",
    "b=\"Spark\"   \n",
    "print(\"a > b is \",a>b)   \n",
    "print(\"a >= b is \",a>=b)   \n",
    "print(\"a < b is \",a<b)\n",
    "print(\"a <= b is \",a<=b)\n"
   ]
  },
  {
   "cell_type": "code",
   "execution_count": 9,
   "metadata": {},
   "outputs": [
    {
     "name": "stdout",
     "output_type": "stream",
     "text": [
      "a is not greater than b\n"
     ]
    }
   ],
   "source": [
    "a=10   \n",
    "b=20   \n",
    "if(a>b):   \n",
    "    print(\"a is greater than b\")   \n",
    "else:   \n",
    "    print(\"a is not greater than b\")    "
   ]
  },
  {
   "cell_type": "markdown",
   "metadata": {},
   "source": [
    "# 13. equality operators\n",
    "==\n",
    "!=\n"
   ]
  },
  {
   "cell_type": "code",
   "execution_count": 26,
   "metadata": {},
   "outputs": [
    {
     "data": {
      "text/plain": [
       "True"
      ]
     },
     "execution_count": 26,
     "metadata": {},
     "output_type": "execute_result"
    }
   ],
   "source": [
    "#Example\n",
    "\n",
    "10==20\n",
    "100!=100\n",
    "100==True\n",
    "10==\"Spark\"  \n",
    "\"HADOOP\"==\"HADOOP\""
   ]
  },
  {
   "cell_type": "markdown",
   "metadata": {},
   "source": [
    "# 14. Logical Operators: (AND OR NOT)\\\n",
    "\n",
    "For boolean types behaviour: \n",
    " \n",
    "and ==>If both arguments are True then only result is True \n",
    "or ====>If atleast one arugemnt is True then result is True \n",
    "not ==>complement \n"
   ]
  },
  {
   "cell_type": "markdown",
   "metadata": {},
   "source": [
    "# 15.Bitwise Operators\n",
    "These operators are applicable only for int and boolean types.\n",
    " &,|,^,~,<<,>>\n",
    " \n",
    "& ==> If both bits are 1 then only result is 1 otherwise result is 0 \n",
    "| ==> If atleast one bit is 1 then result is 1 otherwise result is 0 \n",
    "^ ==>If  bits are different then only result is 1 otherwise result is 0 \n",
    "~ ==>bitwise complement operator           \n",
    "1==>0   &  0==>1 \n",
    "<<  ==> Bitwise Left shift \n",
    ">> ==> Bitwise Right Shift \n"
   ]
  },
  {
   "cell_type": "code",
   "execution_count": 14,
   "metadata": {},
   "outputs": [
    {
     "name": "stdout",
     "output_type": "stream",
     "text": [
      "48\n"
     ]
    }
   ],
   "source": [
    "#Examples\n",
    "print(49&50) "
   ]
  },
  {
   "cell_type": "code",
   "execution_count": 15,
   "metadata": {},
   "outputs": [
    {
     "ename": "TypeError",
     "evalue": "unsupported operand type(s) for &: 'float' and 'float'",
     "output_type": "error",
     "traceback": [
      "\u001b[1;31m---------------------------------------------------------------------------\u001b[0m",
      "\u001b[1;31mTypeError\u001b[0m                                 Traceback (most recent call last)",
      "\u001b[1;32m<ipython-input-15-c2d8cac7c212>\u001b[0m in \u001b[0;36m<module>\u001b[1;34m\u001b[0m\n\u001b[1;32m----> 1\u001b[1;33m \u001b[0mprint\u001b[0m\u001b[1;33m(\u001b[0m\u001b[1;36m10.5\u001b[0m \u001b[1;33m&\u001b[0m \u001b[1;36m5.6\u001b[0m\u001b[1;33m)\u001b[0m\u001b[1;33m\u001b[0m\u001b[1;33m\u001b[0m\u001b[0m\n\u001b[0m",
      "\u001b[1;31mTypeError\u001b[0m: unsupported operand type(s) for &: 'float' and 'float'"
     ]
    }
   ],
   "source": [
    "print(10.5 & 5.6) "
   ]
  },
  {
   "cell_type": "code",
   "execution_count": 16,
   "metadata": {},
   "outputs": [
    {
     "name": "stdout",
     "output_type": "stream",
     "text": [
      "True\n"
     ]
    }
   ],
   "source": [
    "print(True & True)   "
   ]
  },
  {
   "cell_type": "markdown",
   "metadata": {},
   "source": [
    "# 16. Input and Output Statements:\n",
    "\n",
    "raw_input(): \n",
    " \n",
    "This function always reads the data from the keyboard in the form of String Format.  We must convert that string type to our required type by using the corresponding type casting methods. \n",
    "\n",
    "input():  \n",
    "  \n",
    "input() function can be used to read data directly in our required format. We are not required to perform type casting. \n",
    "\n"
   ]
  },
  {
   "cell_type": "code",
   "execution_count": 27,
   "metadata": {},
   "outputs": [
    {
     "name": "stdout",
     "output_type": "stream",
     "text": [
      "Enter Value100\n"
     ]
    },
    {
     "data": {
      "text/plain": [
       "str"
      ]
     },
     "execution_count": 27,
     "metadata": {},
     "output_type": "execute_result"
    }
   ],
   "source": [
    "x=input(\"Enter Value\")  \n",
    "type(x) "
   ]
  },
  {
   "cell_type": "code",
   "execution_count": 28,
   "metadata": {},
   "outputs": [
    {
     "name": "stdout",
     "output_type": "stream",
     "text": [
      "Enter First Number:10\n",
      "Enter Second Number:20\n",
      "The Sum: 30\n"
     ]
    }
   ],
   "source": [
    "x=input(\"Enter First Number:\")   \n",
    "y=input(\"Enter Second Number:\")   \n",
    "i = int(x)  \n",
    "j = int(y)   \n",
    "print(\"The Sum:\",i+j)   \n",
    "\n"
   ]
  },
  {
   "cell_type": "code",
   "execution_count": 3,
   "metadata": {},
   "outputs": [
    {
     "name": "stdout",
     "output_type": "stream",
     "text": [
      "Enter First Number:9\n",
      "Enter Second Number:0\n",
      "The Sum: 9\n"
     ]
    }
   ],
   "source": [
    "print(\"The Sum:\",int(input(\"Enter First Number:\"))+int(input(\"Enter Second Number:\")))   \n",
    "\n"
   ]
  },
  {
   "cell_type": "code",
   "execution_count": 29,
   "metadata": {},
   "outputs": [
    {
     "name": "stdout",
     "output_type": "stream",
     "text": [
      "Enter Employee No:100\n",
      "Enter Employee Name:SHAKEER\n",
      "Enter Employee Salary:1000\n",
      "Enter Employee Address:BAL\n",
      "Employee Married ?[True|False]:True\n",
      "Employee No : 100\n",
      "Employee Name : SHAKEER\n",
      "Employee Salary : 1000.0\n",
      "Employee Address : BAL\n",
      "Employee Married ? : True\n"
     ]
    }
   ],
   "source": [
    "#Write a program to read Employee data from the keyboard and print that data\n",
    "eno=int(input(\"Enter Employee No:\"))   \n",
    "ename=input(\"Enter Employee Name:\")   \n",
    "esal=float(input(\"Enter Employee Salary:\"))   \n",
    "eaddr=input(\"Enter Employee Address:\")   \n",
    "married=bool(input(\"Employee Married ?[True|False]:\"))   \n",
    "print(\"Employee No :\",eno)   \n",
    "print(\"Employee Name :\",ename)   \n",
    "print(\"Employee Salary :\",esal)   \n",
    "print(\"Employee Address :\",eaddr)   \n",
    "print(\"Employee Married ? :\",married)   \n"
   ]
  },
  {
   "cell_type": "markdown",
   "metadata": {},
   "source": [
    "# 17. eval:\n",
    "eval Function take a String and evaluate the Result.\n",
    "eval() can evaluate the Input to list, tuple, set, etc based the provided input"
   ]
  },
  {
   "cell_type": "code",
   "execution_count": 6,
   "metadata": {},
   "outputs": [
    {
     "name": "stdout",
     "output_type": "stream",
     "text": [
      "60\n"
     ]
    }
   ],
   "source": [
    "x = eval(\"10+20+30\")\n",
    "print(x)\n"
   ]
  },
  {
   "cell_type": "code",
   "execution_count": 30,
   "metadata": {},
   "outputs": [
    {
     "name": "stdout",
     "output_type": "stream",
     "text": [
      "Enter Expression20*10\n"
     ]
    }
   ],
   "source": [
    "x = eval(input(\"Enter Expression\"))"
   ]
  },
  {
   "cell_type": "code",
   "execution_count": 31,
   "metadata": {},
   "outputs": [
    {
     "name": "stdout",
     "output_type": "stream",
     "text": [
      "Enter List1,2,3,4\n",
      "<class 'tuple'>\n",
      "(1, 2, 3, 4)\n"
     ]
    }
   ],
   "source": [
    "lst = eval(input(\"Enter List\"))   \n",
    "print (type(lst))   \n",
    "print(lst)\n"
   ]
  },
  {
   "cell_type": "markdown",
   "metadata": {},
   "source": [
    "# 18. Command Line Arguments:\n",
    "\n",
    "Argv is not Array it is a List. \n",
    "It is available sys Module. \n",
    "The Argument which are passing at the time of execution are called Command Line Arguments.\n",
    "Within the Python Program this Command Line Arguments are available in argv. Which is present in SYS Module.\n",
    "\n",
    "Note: \n",
    "argv[0] represents Name of Program. But not first Command Line Argument. argv[1] represent First Command Line Argument.\n"
   ]
  },
  {
   "cell_type": "code",
   "execution_count": 12,
   "metadata": {},
   "outputs": [
    {
     "ename": "NameError",
     "evalue": "name 'argv' is not defined",
     "output_type": "error",
     "traceback": [
      "\u001b[1;31m---------------------------------------------------------------------------\u001b[0m",
      "\u001b[1;31mNameError\u001b[0m                                 Traceback (most recent call last)",
      "\u001b[1;32m<ipython-input-12-ae521359d873>\u001b[0m in \u001b[0;36m<module>\u001b[1;34m\u001b[0m\n\u001b[0;32m      1\u001b[0m \u001b[1;31m#Write a Program to display Command Line Arguments?\u001b[0m\u001b[1;33m\u001b[0m\u001b[1;33m\u001b[0m\u001b[1;33m\u001b[0m\u001b[0m\n\u001b[0;32m      2\u001b[0m \u001b[1;33m\u001b[0m\u001b[0m\n\u001b[1;32m----> 3\u001b[1;33m \u001b[0mprint\u001b[0m\u001b[1;33m(\u001b[0m\u001b[1;34m\"The Number of Command Line Arguments:\"\u001b[0m\u001b[1;33m,\u001b[0m \u001b[0mlen\u001b[0m\u001b[1;33m(\u001b[0m\u001b[0margv\u001b[0m\u001b[1;33m)\u001b[0m\u001b[1;33m)\u001b[0m\u001b[1;33m\u001b[0m\u001b[1;33m\u001b[0m\u001b[0m\n\u001b[0m\u001b[0;32m      4\u001b[0m \u001b[0mprint\u001b[0m\u001b[1;33m(\u001b[0m\u001b[1;34m\"The List of Command Line Arguments:\"\u001b[0m\u001b[1;33m,\u001b[0m \u001b[0margv\u001b[0m\u001b[1;33m)\u001b[0m\u001b[1;33m\u001b[0m\u001b[1;33m\u001b[0m\u001b[0m\n\u001b[0;32m      5\u001b[0m \u001b[0mprint\u001b[0m\u001b[1;33m(\u001b[0m\u001b[1;34m\"Command Line Arguments one by one:\"\u001b[0m\u001b[1;33m)\u001b[0m\u001b[1;33m\u001b[0m\u001b[1;33m\u001b[0m\u001b[0m\n",
      "\u001b[1;31mNameError\u001b[0m: name 'argv' is not defined"
     ]
    }
   ],
   "source": [
    "#Write a Program to display Command Line Arguments?\n",
    "\n",
    "print(\"The Number of Command Line Arguments:\", len(argv))\n",
    "print(\"The List of Command Line Arguments:\", argv)\n",
    "print(\"Command Line Arguments one by one:\")\n",
    "\n",
    "for x in argv:\n",
    "    print(x)\n",
    "#py test.py 10 20 30   "
   ]
  },
  {
   "cell_type": "code",
   "execution_count": null,
   "metadata": {},
   "outputs": [],
   "source": [
    "#If both arguments are String type then + operator acts as concatenation operator. \n",
    " \n",
    "#If one argument is string type and second is any other type like int then we will get Error \n",
    " \n",
    "#If both arguments are number type then + operator acts as arithmetic addition operator\n"
   ]
  },
  {
   "cell_type": "code",
   "execution_count": 13,
   "metadata": {},
   "outputs": [
    {
     "name": "stdout",
     "output_type": "stream",
     "text": [
      "HelloWorld\n",
      "Hello World\n"
     ]
    }
   ],
   "source": [
    "print(\"Hello\"+\"World\")   \n",
    "print(\"Hello\",\"World\")   \n"
   ]
  },
  {
   "cell_type": "code",
   "execution_count": 14,
   "metadata": {},
   "outputs": [
    {
     "name": "stdout",
     "output_type": "stream",
     "text": [
      "The Values are : 10 20 30\n"
     ]
    }
   ],
   "source": [
    "a,b,c=10,20,30   \n",
    "print(\"The Values are :\",a,b,c)   \n"
   ]
  },
  {
   "cell_type": "code",
   "execution_count": 32,
   "metadata": {},
   "outputs": [
    {
     "name": "stdout",
     "output_type": "stream",
     "text": [
      "Hello Hadoop Spark\n"
     ]
    }
   ],
   "source": [
    "#If we want output in the same line with space \n",
    "print(\"Hello\",end=' ')   \n",
    "print(\"Hadoop\",end=' ')  \n",
    "print(\"Spark\")\n"
   ]
  },
  {
   "cell_type": "code",
   "execution_count": 15,
   "metadata": {},
   "outputs": [
    {
     "name": "stdout",
     "output_type": "stream",
     "text": [
      "[10, 20, 30, 40]\n",
      "(10, 20, 30, 40)\n"
     ]
    }
   ],
   "source": [
    "lst=[10,20,30,40]   \n",
    "tple=(10,20,30,40)   \n",
    "print(lst)   \n",
    "print(tple)"
   ]
  },
  {
   "cell_type": "code",
   "execution_count": 17,
   "metadata": {},
   "outputs": [
    {
     "name": "stdout",
     "output_type": "stream",
     "text": [
      "Hello Shakeer Your Age is 33\n",
      "You are teaching Scala and Python\n"
     ]
    }
   ],
   "source": [
    "s=\"Shakeer\"   \n",
    "a=33   \n",
    "s1=\"Scala\"   \n",
    "s2=\"Python\"   \n",
    "print(\"Hello\",s,\"Your Age is\", a)   \n",
    "print(\"You are teaching\",s1,\"and\",s2)\n"
   ]
  },
  {
   "cell_type": "code",
   "execution_count": 18,
   "metadata": {},
   "outputs": [
    {
     "name": "stdout",
     "output_type": "stream",
     "text": [
      "a value is 10\n",
      "b  value is 20 and c value is 30\n"
     ]
    }
   ],
   "source": [
    "a=10   \n",
    "b=20   \n",
    "c=30   \n",
    "print(\"a value is %i\" %a)   \n",
    "print(\"b  value is %d and c value is %d\" %(b, c))\n"
   ]
  },
  {
   "cell_type": "code",
   "execution_count": null,
   "metadata": {},
   "outputs": [],
   "source": [
    "'''\n",
    "%i====>int \n",
    "%d====>int \n",
    "%f=====>float \n",
    "%s======>String type \n",
    "'''"
   ]
  },
  {
   "cell_type": "code",
   "execution_count": 19,
   "metadata": {},
   "outputs": [
    {
     "name": "stdout",
     "output_type": "stream",
     "text": [
      "a value is 100\n",
      "b  value is 200 and c value is 300\n"
     ]
    }
   ],
   "source": [
    "a=100    \n",
    "b=200   \n",
    "c=300   \n",
    "print(\"a value is %i\" %a)   \n",
    "print(\"b  value is %d and c value is %d\" %(b,c))\n"
   ]
  },
  {
   "cell_type": "code",
   "execution_count": 5,
   "metadata": {},
   "outputs": [
    {
     "name": "stdout",
     "output_type": "stream",
     "text": [
      "Hello Shakeer ...The List of Items are [10, 20, 30, 40]\n"
     ]
    }
   ],
   "source": [
    "str=\"Shakeer\"   \n",
    "list=[10,20,30,40]   \n",
    "print(\"Hello %s ...The List of Items are %s\"  %(str,list))\n"
   ]
  },
  {
   "cell_type": "code",
   "execution_count": 33,
   "metadata": {},
   "outputs": [
    {
     "name": "stdout",
     "output_type": "stream",
     "text": [
      "Hello RamCharan your salary is 10000 and Your Friend Kajol is waiting\n"
     ]
    }
   ],
   "source": [
    "name=\"RamCharan\"\n",
    "salary=10000\n",
    "gf=\"Kajol\"\n",
    "\n",
    "print(\"Hello {0} your salary is {1} and Your Friend {2} is waiting\".format(name,salary,gf))\n",
    "#print(\"Hello {x} your salary is {y} and Your Friend {z} is waiting\".format(x=name,y=salary,z= gf))\n"
   ]
  },
  {
   "cell_type": "markdown",
   "metadata": {},
   "source": []
  },
  {
   "cell_type": "markdown",
   "metadata": {},
   "source": [
    "# 20.Control Structures"
   ]
  },
  {
   "cell_type": "code",
   "execution_count": null,
   "metadata": {},
   "outputs": [],
   "source": []
  },
  {
   "cell_type": "markdown",
   "metadata": {},
   "source": [
    "1.if:\n",
    "Syntax:\n",
    "if condition : statement \n",
    "   \n",
    "   (or) \n",
    " \n",
    "if condition :      \n",
    " statement-1      \n",
    " statement-2      \n",
    " statement-3\n",
    " \n",
    " \n",
    "If condition is true then statements will be executed.\n"
   ]
  },
  {
   "cell_type": "code",
   "execution_count": 35,
   "metadata": {},
   "outputs": [
    {
     "name": "stdout",
     "output_type": "stream",
     "text": [
      "Enter Name:Azure\n"
     ]
    }
   ],
   "source": [
    "name = input(\"Enter Name:\")\n",
    "if name == \"Maheer\":\n",
    "    print(\"Hello Maheer Good Morning\")\n",
    "    print(\"How are you!!!\")\n"
   ]
  },
  {
   "cell_type": "markdown",
   "metadata": {},
   "source": [
    "2) if-else: \n",
    " \n",
    "if condition : \n",
    "  Action-1 \n",
    "else :      \n",
    "  Action-2 \n",
    " \n",
    "if condition is true then Action-1 will be executed otherwise Action-2 will be executed.\n"
   ]
  },
  {
   "cell_type": "code",
   "execution_count": 37,
   "metadata": {},
   "outputs": [
    {
     "name": "stdout",
     "output_type": "stream",
     "text": [
      "Enter Name:Oracle\n",
      "Hello Guest Good Moring\n",
      "How are you!!!\n"
     ]
    }
   ],
   "source": [
    "#Example\n",
    "name=input(\"Enter Name:\")\n",
    "if name==\"Shakeer\" :\n",
    "    print(\"Hello Shakeer Good Morning\")\n",
    "else:\n",
    "    print(\"Hello Guest Good Moring\")\n",
    "    print(\"How are you!!!\")\n",
    "    "
   ]
  },
  {
   "cell_type": "markdown",
   "metadata": {},
   "source": [
    "3) if-elif-else: \n",
    "   Syntax: \n",
    " \n",
    "if condition1:     \n",
    " Action-1 \n",
    "elif condition2:     \n",
    " Action-2 \n",
    "elif condition3:     \n",
    " Action-3  \n",
    "elif condition4:     \n",
    " Action-4     \n",
    "... \n",
    "...\n",
    "...\n",
    "else:     \n",
    "Default Action\n",
    " "
   ]
  },
  {
   "cell_type": "code",
   "execution_count": 39,
   "metadata": {},
   "outputs": [
    {
     "name": "stdout",
     "output_type": "stream",
     "text": [
      "Enter Your Name:Madhavi\n",
      "She is Manager\n"
     ]
    }
   ],
   "source": [
    "#Example:\n",
    "name=input(\"Enter Your Name:\")\n",
    "if name==\"Shakeer\":\n",
    "    print(\"He is Hadoop Developer\")\n",
    "elif name==\"Anup\":\n",
    "    print(\"He is DB Developer\")\n",
    "elif name==\"Madhavi\":\n",
    "    print(\"She is Manager\")\n",
    "else :\n",
    "    print(\"Default case\")\n"
   ]
  },
  {
   "cell_type": "code",
   "execution_count": 40,
   "metadata": {},
   "outputs": [
    {
     "name": "stdout",
     "output_type": "stream",
     "text": [
      "Enter First Number:10\n",
      "Enter Second Number:20\n",
      "Biggest Number is: 20\n"
     ]
    }
   ],
   "source": [
    "#Example2:\n",
    "#Biggest number using if else\n",
    "\n",
    "n1=int(input(\"Enter First Number:\"))\n",
    "n2=int(input(\"Enter Second Number:\"))\n",
    "if n1>n2:\n",
    "    print(\"Biggest Number is:\",n1)\n",
    "else :\n",
    "    print(\"Biggest Number is:\",n2)\n"
   ]
  },
  {
   "cell_type": "code",
   "execution_count": 5,
   "metadata": {},
   "outputs": [
    {
     "name": "stdout",
     "output_type": "stream",
     "text": [
      "Enter First Number:10\n",
      "Enter Second Number:20\n",
      "Enter Third Number:30\n",
      "Biggest Number is: 30\n"
     ]
    }
   ],
   "source": [
    "#Example3:\n",
    "n1 = int(input(\"Enter First Number:\"))\n",
    "n2 = int(input(\"Enter Second Number:\"))\n",
    "n3 = int(input(\"Enter Third Number:\"))\n",
    "if n1 > n2 and n1 > n3:   \n",
    "    print(\"Biggest Number is:\", n1)\n",
    "elif n2 > n3:\n",
    "    print(\"Biggest Number is:\", n2)\n",
    "else:\n",
    "    print(\"Biggest Number is:\", n3)\n"
   ]
  },
  {
   "cell_type": "code",
   "execution_count": 6,
   "metadata": {},
   "outputs": [
    {
     "name": "stdout",
     "output_type": "stream",
     "text": [
      "Enter Number:10\n",
      "The number 10 is in between 1 to 10\n"
     ]
    }
   ],
   "source": [
    "#Write a program to check whether the given number is in between 1 and 100?\n",
    "n=int(input(\"Enter Number:\"))\n",
    "if n>=1 and n<=10 :\n",
    "     print(\"The number\",n,\"is in between 1 to 10\")\n",
    "else:\n",
    "     print(\"The number\",n,\"is not in between 1 to 10\")\n"
   ]
  },
  {
   "cell_type": "code",
   "execution_count": 42,
   "metadata": {},
   "outputs": [
    {
     "name": "stdout",
     "output_type": "stream",
     "text": [
      "Enter a digit from o to 9:8\n",
      "EIGHT\n"
     ]
    }
   ],
   "source": [
    "\n",
    "#Example\n",
    "n=int(input(\"Enter a digit from o to 9:\"))   \n",
    "if n==0 :   \n",
    "    print(\"ZERO\")   \n",
    "elif n==1:   \n",
    "    print(\"ONE\")   \n",
    "elif n==2:   \n",
    "    print(\"TWO\")   \n",
    "elif n==3:   \n",
    "    print(\"THREE\")   \n",
    "elif n==4:   \n",
    "    print(\"FOUR\")   \n",
    "elif n==5:   \n",
    "    print(\"FIVE\")   \n",
    "elif n==6:   \n",
    "    print(\"SIX\")   \n",
    "elif n==7:   \n",
    "    print(\"SEVEN\")   \n",
    "elif n==8:   \n",
    "    print(\"EIGHT\")   \n",
    "elif n==9:   \n",
    "    print(\"NINE\")   \n",
    "else:  \n",
    "    print(\"PLEASE ENTER A DIGIT FROM 0 TO 9\")\n"
   ]
  },
  {
   "cell_type": "markdown",
   "metadata": {},
   "source": [
    "# for loop:"
   ]
  },
  {
   "cell_type": "markdown",
   "metadata": {},
   "source": [
    "If we want to execute some action for every element present in \n",
    "some sequence(it may be string or collection)then we should go for loop. \n",
    "\n",
    "Syntax: \n",
    " \n",
    "for x in sequence :    \n",
    " body \n",
    " \n",
    "where sequence can be string or any collection. Body will be executed for every element present in the sequence. \n"
   ]
  },
  {
   "cell_type": "code",
   "execution_count": 43,
   "metadata": {},
   "outputs": [
    {
     "name": "stdout",
     "output_type": "stream",
     "text": [
      "B\n",
      "a\n",
      "n\n",
      "g\n",
      "a\n",
      "l\n",
      "o\n",
      "r\n",
      "e\n"
     ]
    }
   ],
   "source": [
    "#Example:\n",
    " \n",
    "#To print characters, present in the given string\n",
    "s=\"Bangalore\"\n",
    "for x in s :\n",
    "    print(x)\n"
   ]
  },
  {
   "cell_type": "code",
   "execution_count": 9,
   "metadata": {},
   "outputs": [
    {
     "name": "stdout",
     "output_type": "stream",
     "text": [
      "Hello\n",
      "Hello\n",
      "Hello\n",
      "Hello\n",
      "Hello\n",
      "Hello\n",
      "Hello\n",
      "Hello\n",
      "Hello\n",
      "Hello\n"
     ]
    }
   ],
   "source": [
    "#Eg 3:  To print Hello 10 times \n",
    "for x in range(10) :\n",
    "    print(\"Hello\")   \n"
   ]
  },
  {
   "cell_type": "code",
   "execution_count": 44,
   "metadata": {},
   "outputs": [
    {
     "name": "stdout",
     "output_type": "stream",
     "text": [
      "0\n",
      "1\n",
      "2\n",
      "3\n",
      "4\n",
      "5\n",
      "6\n",
      "7\n",
      "8\n",
      "9\n"
     ]
    }
   ],
   "source": [
    "#Eg 4: To display  numbers from 0 to 10 \n",
    "for x in range(10) :   \n",
    "    print(x)   \n"
   ]
  },
  {
   "cell_type": "code",
   "execution_count": 45,
   "metadata": {},
   "outputs": [
    {
     "name": "stdout",
     "output_type": "stream",
     "text": [
      "1\n",
      "3\n",
      "5\n",
      "7\n",
      "9\n",
      "11\n",
      "13\n",
      "15\n",
      "17\n",
      "19\n"
     ]
    }
   ],
   "source": [
    "#Eg 5:  To display odd numbers from 0 to 20 \n",
    "for x in range(21) :   \n",
    "    if (x%2!=0):    \n",
    "        print(x)   \n"
   ]
  },
  {
   "cell_type": "code",
   "execution_count": 14,
   "metadata": {},
   "outputs": [
    {
     "name": "stdout",
     "output_type": "stream",
     "text": [
      "10\n",
      "9\n",
      "8\n",
      "7\n",
      "6\n",
      "5\n",
      "4\n",
      "3\n",
      "2\n",
      "1\n"
     ]
    }
   ],
   "source": [
    "#Example 6:  \n",
    "#To display numbers from 10 to 1 in descending order \n",
    "for x in range(10,0,-1) : \n",
    "    print(x)  "
   ]
  },
  {
   "cell_type": "markdown",
   "metadata": {},
   "source": [
    "break:   \n",
    "\n",
    "We can use break statement inside loops to break loop execution based on some condition.\n",
    "\n"
   ]
  },
  {
   "cell_type": "code",
   "execution_count": 46,
   "metadata": {},
   "outputs": [
    {
     "name": "stdout",
     "output_type": "stream",
     "text": [
      "0\n",
      "1\n",
      "2\n",
      "3\n",
      "4\n",
      "5\n",
      "6\n",
      "processing is enough..plz break\n"
     ]
    }
   ],
   "source": [
    "#Example:\n",
    "for i in range(10):\n",
    "    if i == 7:\n",
    "        print(\"processing is enough..plz break\")\n",
    "        break\n",
    "    print(i)\n"
   ]
  },
  {
   "cell_type": "markdown",
   "metadata": {},
   "source": [
    "2) continue: \n",
    " \n",
    "We can use continue statement to skip current iteration and continue next iteration.\n",
    "\n"
   ]
  },
  {
   "cell_type": "code",
   "execution_count": 22,
   "metadata": {},
   "outputs": [
    {
     "name": "stdout",
     "output_type": "stream",
     "text": [
      "1\n",
      "3\n",
      "5\n",
      "7\n",
      "9\n"
     ]
    }
   ],
   "source": [
    "#Example:\n",
    "#To print odd numbers in the range 0 to 9\n",
    "\n",
    "for i in range(10):\n",
    "    if i % 2 == 0:   \n",
    "        continue\n",
    "    print(i)\n"
   ]
  },
  {
   "cell_type": "code",
   "execution_count": 23,
   "metadata": {},
   "outputs": [
    {
     "name": "stdout",
     "output_type": "stream",
     "text": [
      "10\n",
      "20\n",
      "We cannot process this item : 500\n",
      "We cannot process this item : 700\n",
      "50\n",
      "60\n"
     ]
    }
   ],
   "source": [
    "lst=[10,20,500,700,50,60]\n",
    "for item in lst:\n",
    "    if item>=500:\n",
    "        print(\"We cannot process this item :\",item)\n",
    "        continue   \n",
    "    print(item)\n"
   ]
  },
  {
   "cell_type": "code",
   "execution_count": 24,
   "metadata": {},
   "outputs": [
    {
     "name": "stdout",
     "output_type": "stream",
     "text": [
      "Hey how we can divide with zero..just skipping\n",
      "Hey how we can divide with zero..just skipping\n",
      "100/30 = 3.3333333333333335\n"
     ]
    }
   ],
   "source": [
    "#Example:\n",
    "a = [10, 20, 0, 5, 0, 30]\n",
    "for n in a:\n",
    "    if n == 0:   \\\n",
    "    print(\"Hey how we can divide with zero..just skipping\")\n",
    "    continue\n",
    "print(\"100/{} = {}\".format(n, 100 / n))  \n"
   ]
  },
  {
   "cell_type": "code",
   "execution_count": 49,
   "metadata": {},
   "outputs": [
    {
     "name": "stdout",
     "output_type": "stream",
     "text": [
      "10\n",
      "20\n",
      "30\n",
      "40\n",
      "50\n",
      "We cannot process this order 600\n"
     ]
    }
   ],
   "source": [
    "#loops with else block: \n",
    " \n",
    "#Inside loop execution, \n",
    "#if break statement not executed ,then only else part will be executed. else means  loop without break\n",
    "\n",
    "\n",
    "#Example:\n",
    "\n",
    "lst = [10, 20, 30, 40, 50,600]\n",
    "for item in lst:\n",
    "    if item >= 500:\n",
    "        print(\"We cannot process this order\",item)\n",
    "        break\n",
    "    print(item)\n",
    "else:\n",
    "    print(\"Congrats ...all items processed successfully\")\n",
    "\n"
   ]
  },
  {
   "cell_type": "code",
   "execution_count": 26,
   "metadata": {},
   "outputs": [
    {
     "name": "stdout",
     "output_type": "stream",
     "text": [
      "10\n",
      "20\n",
      "We cannot process this order\n"
     ]
    }
   ],
   "source": [
    "#exAMPLE\n",
    "b=[10,20,600,30,40,50]\n",
    "for item in b:\n",
    "    if item>=500:\n",
    "        print(\"We cannot process this order\")\n",
    "        break\n",
    "    print(item)\n",
    "else:\n",
    "    print(\"Congrats ...all items processed successfully\")\n"
   ]
  },
  {
   "cell_type": "markdown",
   "metadata": {},
   "source": [
    "pass statement: \n",
    " \n",
    "pass is a keyword in Python. \n",
    "In our programming syntactically if block is required which won't do anything then we can define that empty block with pass keyword. \n",
    " \n",
    "Pass:      \n",
    "|- It is an empty statement      \n",
    "|- It is null statement      \n",
    "|- It won't do anything \n",
    " \n",
    "use case of pass:   \n",
    "\n",
    "Sometimes in the parent class we have to declare a function  with empty   body and child class responsible to provide proper implementation. Such type of empty body we can define by using pass keyword. (It is something like abstract method in java)    \n",
    "Eg:   def m1(): pass \n",
    "\n"
   ]
  },
  {
   "cell_type": "code",
   "execution_count": 27,
   "metadata": {},
   "outputs": [
    {
     "name": "stdout",
     "output_type": "stream",
     "text": [
      "0\n",
      "9\n",
      "18\n",
      "27\n",
      "36\n",
      "45\n",
      "54\n",
      "63\n",
      "72\n",
      "81\n",
      "90\n",
      "99\n"
     ]
    }
   ],
   "source": [
    "for i in range(100):\n",
    "    if i%9==0:\n",
    "        print(i)\n",
    "    else:\n",
    "        pass \n"
   ]
  },
  {
   "cell_type": "markdown",
   "metadata": {},
   "source": [
    "del statement: \n",
    " \n",
    "del is a keyword in Python. \n",
    "After using a variable, it is highly recommended to delete that variable if it is no longer required,so that the corresponding object is eligible for Garbage Collection. We can delete variable by using del keyword.\n"
   ]
  },
  {
   "cell_type": "code",
   "execution_count": 51,
   "metadata": {},
   "outputs": [
    {
     "name": "stdout",
     "output_type": "stream",
     "text": [
      "10\n"
     ]
    },
    {
     "ename": "NameError",
     "evalue": "name 'x' is not defined",
     "output_type": "error",
     "traceback": [
      "\u001b[1;31m---------------------------------------------------------------------------\u001b[0m",
      "\u001b[1;31mNameError\u001b[0m                                 Traceback (most recent call last)",
      "\u001b[1;32m<ipython-input-51-20c841fd3aa6>\u001b[0m in \u001b[0;36m<module>\u001b[1;34m\u001b[0m\n\u001b[0;32m      4\u001b[0m \u001b[0mprint\u001b[0m\u001b[1;33m(\u001b[0m\u001b[0mx\u001b[0m\u001b[1;33m)\u001b[0m\u001b[1;33m\u001b[0m\u001b[1;33m\u001b[0m\u001b[0m\n\u001b[0;32m      5\u001b[0m \u001b[1;32mdel\u001b[0m \u001b[0mx\u001b[0m\u001b[1;33m\u001b[0m\u001b[1;33m\u001b[0m\u001b[0m\n\u001b[1;32m----> 6\u001b[1;33m \u001b[0mprint\u001b[0m\u001b[1;33m(\u001b[0m\u001b[0mx\u001b[0m\u001b[1;33m)\u001b[0m\u001b[1;33m\u001b[0m\u001b[1;33m\u001b[0m\u001b[0m\n\u001b[0m",
      "\u001b[1;31mNameError\u001b[0m: name 'x' is not defined"
     ]
    }
   ],
   "source": [
    "#Example:\n",
    "\n",
    "x=10  \n",
    "print(x)   \n",
    "del x  \n",
    "print(x)\n"
   ]
  },
  {
   "cell_type": "markdown",
   "metadata": {},
   "source": [
    "# Functions"
   ]
  },
  {
   "cell_type": "markdown",
   "metadata": {},
   "source": [
    "Function blocks begin with the keyword def followed by the function name and parentheses ().\n",
    "While defining functions we need to specify parameters in these parentheses (if applicable)\n",
    "The function specification ends with : - (example: def add(a, b):)\n",
    "We typically have return statement with expression in function body which results in exit from the function and goes back to the caller.\n",
    "We can have document string in the function."
   ]
  },
  {
   "cell_type": "code",
   "execution_count": 52,
   "metadata": {},
   "outputs": [],
   "source": [
    "#example1\n",
    "def addition(x,y):\n",
    "    return x+y\n"
   ]
  },
  {
   "cell_type": "code",
   "execution_count": 54,
   "metadata": {},
   "outputs": [
    {
     "data": {
      "text/plain": [
       "220"
      ]
     },
     "execution_count": 54,
     "metadata": {},
     "output_type": "execute_result"
    }
   ],
   "source": [
    "addition(200,20)"
   ]
  },
  {
   "cell_type": "code",
   "execution_count": 55,
   "metadata": {},
   "outputs": [
    {
     "name": "stdout",
     "output_type": "stream",
     "text": [
      "The sum is 30\n",
      "The sum is 30\n"
     ]
    }
   ],
   "source": [
    "result=addition(10,20)  \n",
    "print(\"The sum is\",result)\n",
    "print(\"The sum is\",addition(10,20))   "
   ]
  },
  {
   "cell_type": "code",
   "execution_count": 56,
   "metadata": {},
   "outputs": [],
   "source": [
    "#even or odd function\n",
    "\n",
    "def even_odd(num):\n",
    "    if num%2==0:\n",
    "        print(num,\"is Even Number\")\n",
    "    else:\n",
    "        print(num,\"is Odd Number\")   "
   ]
  },
  {
   "cell_type": "code",
   "execution_count": 58,
   "metadata": {},
   "outputs": [
    {
     "name": "stdout",
     "output_type": "stream",
     "text": [
      "200 is Even Number\n",
      "None\n"
     ]
    }
   ],
   "source": [
    "#calling function\n",
    "print(even_odd(200))"
   ]
  },
  {
   "cell_type": "code",
   "execution_count": 59,
   "metadata": {},
   "outputs": [],
   "source": [
    "def arithmatic(a,b):\n",
    "    sum=a+b   \n",
    "    sub=a-b   \n",
    "    mul=a*b   \n",
    "    div=a/b   \n",
    "    return sum,sub,mul,div   "
   ]
  },
  {
   "cell_type": "code",
   "execution_count": 252,
   "metadata": {},
   "outputs": [
    {
     "name": "stdout",
     "output_type": "stream",
     "text": [
      "(30, -10, 200, 0.5)\n"
     ]
    }
   ],
   "source": [
    "print(arithmatic(10,20))"
   ]
  },
  {
   "cell_type": "code",
   "execution_count": null,
   "metadata": {},
   "outputs": [],
   "source": []
  },
  {
   "cell_type": "code",
   "execution_count": null,
   "metadata": {},
   "outputs": [],
   "source": []
  },
  {
   "cell_type": "code",
   "execution_count": null,
   "metadata": {},
   "outputs": [],
   "source": []
  },
  {
   "cell_type": "code",
   "execution_count": null,
   "metadata": {},
   "outputs": [],
   "source": []
  },
  {
   "cell_type": "code",
   "execution_count": 3,
   "metadata": {},
   "outputs": [],
   "source": [
    "def get_comm_amount(sal, pct):\n",
    "    comm_amount = (sal * pct / 100) if pct else 0\n",
    "    return comm_amount"
   ]
  },
  {
   "cell_type": "code",
   "execution_count": 4,
   "metadata": {},
   "outputs": [
    {
     "data": {
      "text/plain": [
       "<function __main__.get_commission_amount(salary, comm_pct)>"
      ]
     },
     "execution_count": 4,
     "metadata": {},
     "output_type": "execute_result"
    }
   ],
   "source": [
    "get_commission_amount"
   ]
  },
  {
   "cell_type": "code",
   "execution_count": 5,
   "metadata": {},
   "outputs": [
    {
     "data": {
      "text/plain": [
       "200.0"
      ]
     },
     "execution_count": 5,
     "metadata": {},
     "output_type": "execute_result"
    }
   ],
   "source": [
    "get_commission_amount(1000, 20)"
   ]
  },
  {
   "cell_type": "code",
   "execution_count": 253,
   "metadata": {},
   "outputs": [],
   "source": [
    "def get_comm_amount(sales_amount, pct):\n",
    "    if pct:\n",
    "        commission_amount = (sales_amount * pct / 100) \n",
    "    else:\n",
    "        pct = 0\n",
    "    return commission_amount"
   ]
  },
  {
   "cell_type": "code",
   "execution_count": null,
   "metadata": {},
   "outputs": [],
   "source": [
    "def get_comm_amount(sales_amount, pct):\n",
    "    return (sales_amount * pct / 100) if pct else 0"
   ]
  },
  {
   "cell_type": "code",
   "execution_count": 6,
   "metadata": {},
   "outputs": [],
   "source": [
    "get_commission_amount?"
   ]
  },
  {
   "cell_type": "markdown",
   "metadata": {},
   "source": [
    "We typically have one or more return statements inside the function body.\n",
    "The statement return exits a function, we can return back an expression or variable or object to the caller. A return statement with no expression is the same as return None.\n",
    "If there is no return statement in the function body then the function returns None object.\n",
    "We can return multiple expressions in Python."
   ]
  },
  {
   "cell_type": "code",
   "execution_count": null,
   "metadata": {},
   "outputs": [],
   "source": [
    "def get_commission_amount(sales_amount, commission_pct):\n",
    "    \"\"\"Function to compute commission amount. commission_pct should be passed as percent notation (eg: 20%)\n",
    "       20% using percent notation is equal to 0.20 in decimal notation.\n",
    "    \"\"\"\n",
    "    commission_amount = (sales_amount * commission_pct / 100) if commission_pct else 0\n",
    "    return commission_amount"
   ]
  },
  {
   "cell_type": "code",
   "execution_count": 61,
   "metadata": {},
   "outputs": [
    {
     "name": "stdout",
     "output_type": "stream",
     "text": [
      "output\n"
     ]
    }
   ],
   "source": [
    "#rerewrtwetwt\n",
    "'''fdgdgfdggdf'''\n",
    "\"\"\"sdfgdgdfgdfg\"\"\"\n",
    "print(\"output\")"
   ]
  },
  {
   "cell_type": "code",
   "execution_count": 62,
   "metadata": {},
   "outputs": [],
   "source": [
    "def get_phone_count(employee_id: int, phone_numbers: list):\n",
    "    valid_count = 0\n",
    "    invalid_count = 0\n",
    "    for phone_number in phone_numbers:\n",
    "        if len(phone_number) != 10:\n",
    "            invalid_count += 1\n",
    "        else:\n",
    "            valid_count += 1\n",
    "    return valid_count, invalid_count"
   ]
  },
  {
   "cell_type": "code",
   "execution_count": 63,
   "metadata": {},
   "outputs": [
    {
     "data": {
      "text/plain": [
       "(1, 2)"
      ]
     },
     "execution_count": 63,
     "metadata": {},
     "output_type": "execute_result"
    }
   ],
   "source": [
    "get_phone_count(1, ['1234567890', '245 789 1234', '+1 156 290 1489'])"
   ]
  },
  {
   "cell_type": "markdown",
   "metadata": {},
   "source": [
    "# Function Parameters and Arguments"
   ]
  },
  {
   "cell_type": "markdown",
   "metadata": {},
   "source": [
    "Here are different types of parameters or arguments:\n",
    "\n",
    "Parameters with Default Values\n",
    "\n",
    "Varying arguments\n",
    "\n",
    "Keyword arguments\n",
    "\n",
    "Varying Keyword arguments\n",
    "\n",
    "We can pass arguments to a function by parameter position or name. If you use name you can pass arguments in any order.\n",
    "\n",
    "You can only specify parameters with default values after mandatory parameters. "
   ]
  },
  {
   "cell_type": "code",
   "execution_count": null,
   "metadata": {},
   "outputs": [],
   "source": [
    "def get_invalid_phone_count(employee_id, phone_numbers):\n",
    "    invalid_count = 0\n",
    "    for phone_number in phone_numbers:\n",
    "        if len(phone_number) != 10:\n",
    "            invalid_count += 1\n",
    "    return employee_id, invalid_count"
   ]
  },
  {
   "cell_type": "code",
   "execution_count": null,
   "metadata": {},
   "outputs": [],
   "source": [
    "s = 'Employee {employee_id} have {invalid_count} invalid phones'\n",
    "employee_id, invalid_count = get_invalid_phone_count(1, ['1234', '1234567890'])"
   ]
  },
  {
   "cell_type": "code",
   "execution_count": null,
   "metadata": {},
   "outputs": [],
   "source": [
    "print(s.format(employee_id=employee_id, invalid_count=invalid_count))"
   ]
  },
  {
   "cell_type": "code",
   "execution_count": null,
   "metadata": {},
   "outputs": [],
   "source": [
    "def get_commission_amount(sales_amount=1000, commission_pct):\n",
    "    \"\"\"Function to compute commission amount. commission_pct should be passed as percent notation (eg: 20%)\n",
    "       20% using percent notation is equal to 0.20 in decimal notation.\n",
    "    \"\"\"\n",
    "    commission_amount = (sales_amount * commission_pct / 100) if commission_pct else 0\n",
    "    return commission_amount"
   ]
  },
  {
   "cell_type": "code",
   "execution_count": null,
   "metadata": {},
   "outputs": [],
   "source": [
    "//Error"
   ]
  },
  {
   "cell_type": "code",
   "execution_count": null,
   "metadata": {},
   "outputs": [],
   "source": [
    "def get_commission_amount(sales_amount, commission_pct=10):\n",
    "    \"\"\"Function to compute commission amount. commission_pct should be passed as percent notation (eg: 20%)\n",
    "       20% using percent notation is equal to 0.20 in decimal notation.\n",
    "    \"\"\"\n",
    "    if commission_pct and commission_pct > 100:\n",
    "        print('Invalid Commision Percentage, greater than 100')\n",
    "        return\n",
    "    commission_amount = sales_amount * (commission_pct / 100) if commission_pct else 0\n",
    "    return commission_amount"
   ]
  },
  {
   "cell_type": "code",
   "execution_count": null,
   "metadata": {},
   "outputs": [],
   "source": [
    "# Arguments by position\n",
    "get_commission_amount(1000, 5)"
   ]
  },
  {
   "cell_type": "code",
   "execution_count": null,
   "metadata": {},
   "outputs": [],
   "source": [
    "# Will take commission_pct default value\n",
    "get_commission_amount(1000)"
   ]
  },
  {
   "cell_type": "code",
   "execution_count": null,
   "metadata": {},
   "outputs": [],
   "source": [
    "get_commission_amount(1000, 150)"
   ]
  },
  {
   "cell_type": "code",
   "execution_count": null,
   "metadata": {},
   "outputs": [],
   "source": [
    "# Arguments by name\n",
    "get_commission_amount(commission_pct=18, sales_amount=1500)"
   ]
  },
  {
   "cell_type": "markdown",
   "metadata": {},
   "source": [
    "# Varying Arguments"
   ]
  },
  {
   "cell_type": "markdown",
   "metadata": {},
   "source": [
    "At times we might want to pass values of same type as arguments and we might not know how many of them.\n",
    "\n",
    "In that scenario we can leverage the concept of Varying arguments.\n",
    "\n",
    "The parameter which accepts Varying arguments should have * at the beginning - example: *phone_numbers.\n",
    "\n",
    "As part of the function body the type of the parameter will be tuple. In our case, as we will be passing phone numbers as strings, it will be of type tuple where each element will be of type string."
   ]
  },
  {
   "cell_type": "code",
   "execution_count": null,
   "metadata": {},
   "outputs": [],
   "source": [
    "#Example\n",
    "def get_invalid_phone_count(*phone_numbers, employee_id):\n",
    "    invalid_count = 0\n",
    "    for phone_number in phone_numbers:\n",
    "        if len(phone_number) < 10:\n",
    "            invalid_count += 1\n",
    "    return employee_id, invalid_count"
   ]
  },
  {
   "cell_type": "code",
   "execution_count": null,
   "metadata": {},
   "outputs": [],
   "source": [
    "s = 'Employee {employee_id} have {invalid_count} invalid phones'\n",
    "employee_id, invalid_count = get_invalid_phone_count('1234', '1234567890', 1) \n",
    "# argument by position will fail\n",
    "# Python interpreter cannot determine whether 1 is related to phone_numbers or employee_id"
   ]
  },
  {
   "cell_type": "code",
   "execution_count": null,
   "metadata": {},
   "outputs": [],
   "source": [
    "s = 'Employee {employee_id} have {invalid_count} invalid phones'\n",
    "phone_numbers = ('1234', '1234567890',)\n",
    "employee_id, invalid_count = get_invalid_phone_count(employee_id=1, phone_numbers=phone_numbers) \n",
    "# argument by name will fail\n",
    "# This will fail as we cannot pass varrying argument using keyword"
   ]
  },
  {
   "cell_type": "code",
   "execution_count": null,
   "metadata": {},
   "outputs": [],
   "source": [
    "s = 'Employee {employee_id} have {invalid_count} invalid phones'\n",
    "employee_id, invalid_count = get_invalid_phone_count('1234', '1234567890', employee_id=1) \n",
    "# argument by position will fail\n",
    "# Python interpreter cannot determine whether 1 is related to phone_numbers or employee_id"
   ]
  },
  {
   "cell_type": "code",
   "execution_count": null,
   "metadata": {},
   "outputs": [],
   "source": [
    "print(s.format(employee_id=employee_id, invalid_count=invalid_count))"
   ]
  },
  {
   "cell_type": "code",
   "execution_count": null,
   "metadata": {},
   "outputs": [],
   "source": [
    "#example\n",
    "def get_invalid_phone_count(employee_id, *phone_numbers):\n",
    "    print(f'Length of phone_numbers is: {len(phone_numbers)}')\n",
    "    print(f'Type of phone_numbers is: {type(phone_numbers)}')\n",
    "    print(f'Type of each phone number is: {type(phone_numbers[0])}')\n",
    "    print(phone_numbers)\n",
    "    invalid_count = 0\n",
    "    for phone_number in phone_numbers:\n",
    "        if len(phone_number) < 10:\n",
    "            invalid_count += 1\n",
    "    return employee_id, invalid_count"
   ]
  },
  {
   "cell_type": "code",
   "execution_count": null,
   "metadata": {},
   "outputs": [],
   "source": [
    "s = 'Employee {employee_id} have {invalid_count} invalid phones'\n",
    "employee_id, invalid_count = get_invalid_phone_count(1, '1234', '1234567890') # argument by position works here"
   ]
  },
  {
   "cell_type": "code",
   "execution_count": null,
   "metadata": {},
   "outputs": [],
   "source": [
    "print(s.format(employee_id=employee_id, invalid_count=invalid_count))"
   ]
  },
  {
   "cell_type": "code",
   "execution_count": null,
   "metadata": {},
   "outputs": [],
   "source": [
    "s = 'Employee {employee_id} have {invalid_count} invalid phones'\n",
    "phone_numbers = ['1234', '1234567890']"
   ]
  },
  {
   "cell_type": "code",
   "execution_count": null,
   "metadata": {},
   "outputs": [],
   "source": [
    "employee_id, invalid_count = get_invalid_phone_count(1, *phone_numbers) # argument by position works here"
   ]
  },
  {
   "cell_type": "code",
   "execution_count": null,
   "metadata": {},
   "outputs": [],
   "source": [
    "print(s.format(employee_id=employee_id, invalid_count=invalid_count))"
   ]
  },
  {
   "cell_type": "markdown",
   "metadata": {},
   "source": [
    "# key word arguments"
   ]
  },
  {
   "cell_type": "markdown",
   "metadata": {},
   "source": [
    "Keyword Argument is same as passing argument by name.\n",
    "\n",
    "You can also specify parameter for varying keyword arguments with ** at the beginning - example: **degrees\n",
    "\n",
    "While passing arguments to satisfy the parameter with **, you have to pass key as well as value.\n",
    "\n",
    "Varying Keyword Arguments can be processed as dict in the Function body."
   ]
  },
  {
   "cell_type": "code",
   "execution_count": 10,
   "metadata": {},
   "outputs": [],
   "source": [
    "def add_employee(employee_id, **degrees):\n",
    "    print(f'Length of degrees is: {len(degrees)}')\n",
    "    print(f'Type of degrees is: {type(degrees)}')\n",
    "    print(degrees)"
   ]
  },
  {
   "cell_type": "code",
   "execution_count": 11,
   "metadata": {},
   "outputs": [
    {
     "name": "stdout",
     "output_type": "stream",
     "text": [
      "Length of degrees is: 2\n",
      "Type of degrees is: <class 'dict'>\n",
      "{'bachelors': 'B. Sc', 'masters': 'M. C. A'}\n"
     ]
    }
   ],
   "source": [
    "add_employee(1, bachelors='B. Sc', masters='M. C. A')"
   ]
  },
  {
   "cell_type": "code",
   "execution_count": null,
   "metadata": {},
   "outputs": [],
   "source": [
    "degrees = {'bachelors': 'B. Sc', 'masters': 'M. C. A'}\n",
    "add_employee(1, **degrees)"
   ]
  },
  {
   "cell_type": "code",
   "execution_count": 12,
   "metadata": {},
   "outputs": [],
   "source": [
    "#example2\n",
    "def add_employee(employee_id, *phone_numbers, **degrees):\n",
    "    print(f'Length of phone_numbers is: {len(phone_numbers)}')\n",
    "    print(f'Type of phone_numbers is: {type(phone_numbers)}')\n",
    "    print(phone_numbers)    \n",
    "    print(f'Length of degrees is: {len(degrees)}')\n",
    "    print(f'Type of degrees is: {type(degrees)}')\n",
    "    print(degrees)"
   ]
  },
  {
   "cell_type": "code",
   "execution_count": 13,
   "metadata": {},
   "outputs": [
    {
     "name": "stdout",
     "output_type": "stream",
     "text": [
      "Length of phone_numbers is: 2\n",
      "Type of phone_numbers is: <class 'tuple'>\n",
      "('1234567890', '1234567890')\n",
      "Length of degrees is: 2\n",
      "Type of degrees is: <class 'dict'>\n",
      "{'bachelors': 'B. Sc', 'masters': 'M. C. A'}\n"
     ]
    }
   ],
   "source": [
    "add_employee(1, '1234567890', '1234567890', bachelors='B. Sc', masters='M. C. A')"
   ]
  },
  {
   "cell_type": "code",
   "execution_count": null,
   "metadata": {},
   "outputs": [],
   "source": [
    "#example\n",
    "def get_invalid_phone_count(employee_id, *phone_numbers):\n",
    "    invalid_count = 0\n",
    "    for phone_number in phone_numbers:\n",
    "        if len(phone_number) != 10:\n",
    "            invalid_count += 1\n",
    "    return employee_id, invalid_count"
   ]
  },
  {
   "cell_type": "code",
   "execution_count": null,
   "metadata": {},
   "outputs": [],
   "source": [
    "def add_employee(employee_id, employee_name, *phone_numbers, salary=3000, **degrees):\n",
    "    degree_types = ('bachelors', 'masters', 'executive', 'doctorate')\n",
    "    invalid_degree_flag = False\n",
    "    invalid_salary_flag = False\n",
    "    l_employee_id, l_invalid_count = get_invalid_phone_count(employee_id, *phone_numbers)\n",
    "    if l_invalid_count != 0:\n",
    "        print(f'{l_invalid_count} phone numbers out of {len(phone_numbers)} are not valid')    \n",
    "\n",
    "    if salary < 3000:\n",
    "        invalid_salary_flag = True\n",
    "        print(f'Invalid salary: {salary}, salary should be at least 3000')\n",
    "\n",
    "    for degree_key in degrees:\n",
    "        if degree_key not in degree_types:\n",
    "            invalid_degree_flag = True\n",
    "    \n",
    "    if l_invalid_count != 0 or invalid_degree_flag or invalid_salary_flag:\n",
    "        if invalid_degree_flag: print('One or more degrees are not valid')\n",
    "        return\n",
    "\n",
    "    print('Employee {} with {} degrees is successfully added and his salary is {}'.format(employee_id, len(degrees), salary))\n",
    "    return"
   ]
  },
  {
   "cell_type": "code",
   "execution_count": null,
   "metadata": {},
   "outputs": [],
   "source": [
    "add_employee(1, 'IT', '1234567890', '1234567890', salary=5000, b='B. Sc', m='M. C. A')"
   ]
  },
  {
   "cell_type": "code",
   "execution_count": null,
   "metadata": {},
   "outputs": [],
   "source": [
    "add_employee(1, 'IT', '12345678', '1234567890', salary=5000, b='B. Sc', masters='M. C. A')"
   ]
  },
  {
   "cell_type": "code",
   "execution_count": null,
   "metadata": {},
   "outputs": [],
   "source": [
    "add_employee(1, 'IT', '12345678', '1234567890', salary=2000, bachelors='B. Sc', masters='M. C. A')"
   ]
  },
  {
   "cell_type": "code",
   "execution_count": null,
   "metadata": {},
   "outputs": [],
   "source": [
    "add_employee(1, 'IT', '1234567890', '1234567890', salary=5000, bachelors='B. Sc', masters='M. C. A')"
   ]
  },
  {
   "cell_type": "code",
   "execution_count": null,
   "metadata": {},
   "outputs": [],
   "source": [
    "def add_employee(employee_id, employee_name, *phone_numbers, salary=3000, **degrees):\n",
    "    \"\"\"Example using pre defined exception ValueError\"\"\"\n",
    "    degree_types = ('bachelors', 'masters', 'executive', 'doctorate')\n",
    "    try:\n",
    "        l_employee_id, l_invalid_count = get_invalid_phone_count(employee_id, *phone_numbers)\n",
    "        if l_invalid_count != 0 or salary < 3000:\n",
    "            raise ValueError\n",
    "              \n",
    "        for degree_key in degrees:\n",
    "            if degree_key not in degree_types:\n",
    "                raise ValueError\n",
    "\n",
    "        print('Employee {} with {} degrees is successfully added and his salary is {}'.format(employee_id, len(degrees), salary))\n",
    "\n",
    "    except ValueError as ve:\n",
    "        print('Either one or more phone numbers are not valid or invalid salary, salary should be at least 3000 or one or more degrees are not correct')"
   ]
  },
  {
   "cell_type": "code",
   "execution_count": null,
   "metadata": {},
   "outputs": [],
   "source": [
    "add_employee(1, 'IT', '1234567890', '1234567890', salary=5000, b='B. Sc', masters='M. C. A')"
   ]
  },
  {
   "cell_type": "code",
   "execution_count": null,
   "metadata": {},
   "outputs": [],
   "source": [
    "add_employee(1, 'IT', '1234567890', '1234567890', salary=5000, bachelors='B. Sc', masters='M. C. A')"
   ]
  },
  {
   "cell_type": "markdown",
   "metadata": {},
   "source": [
    "# function as arguments"
   ]
  },
  {
   "cell_type": "code",
   "execution_count": 16,
   "metadata": {},
   "outputs": [],
   "source": [
    "def my_sum(lb, ub, f):\n",
    "    total = 0\n",
    "    for e in range(lb, ub + 1):\n",
    "        total += f(e)\n",
    "    return total"
   ]
  },
  {
   "cell_type": "code",
   "execution_count": 18,
   "metadata": {},
   "outputs": [],
   "source": [
    "def i(n): return n"
   ]
  },
  {
   "cell_type": "code",
   "execution_count": 20,
   "metadata": {},
   "outputs": [],
   "source": [
    "def sqr(n): return n * n"
   ]
  },
  {
   "cell_type": "code",
   "execution_count": 21,
   "metadata": {},
   "outputs": [],
   "source": [
    "def cube(n): return n * n * n"
   ]
  },
  {
   "cell_type": "code",
   "execution_count": 22,
   "metadata": {},
   "outputs": [],
   "source": [
    "def even(n): return n if n % 2 == 0 else 0"
   ]
  },
  {
   "cell_type": "code",
   "execution_count": 19,
   "metadata": {},
   "outputs": [
    {
     "data": {
      "text/plain": [
       "45"
      ]
     },
     "execution_count": 19,
     "metadata": {},
     "output_type": "execute_result"
    }
   ],
   "source": [
    "my_sum(5, 10, i)"
   ]
  },
  {
   "cell_type": "code",
   "execution_count": 23,
   "metadata": {},
   "outputs": [
    {
     "data": {
      "text/plain": [
       "355"
      ]
     },
     "execution_count": 23,
     "metadata": {},
     "output_type": "execute_result"
    }
   ],
   "source": [
    "my_sum(5, 10, sqr)"
   ]
  },
  {
   "cell_type": "code",
   "execution_count": 24,
   "metadata": {},
   "outputs": [
    {
     "data": {
      "text/plain": [
       "2925"
      ]
     },
     "execution_count": 24,
     "metadata": {},
     "output_type": "execute_result"
    }
   ],
   "source": [
    "my_sum(5, 10, cube)"
   ]
  },
  {
   "cell_type": "markdown",
   "metadata": {},
   "source": [
    "# lamda functions"
   ]
  },
  {
   "cell_type": "code",
   "execution_count": null,
   "metadata": {},
   "outputs": [],
   "source": [
    "A lambda function is a function which does not have name associated with it.\n",
    "\n",
    "It starts with the keyword lambda.\n",
    "\n",
    "Typically we have simple one liners as part of lambda functions.\n",
    "\n",
    "There are restrictions while passing or creating lambda functions.\n",
    "\n",
    "You cannot have return statement\n",
    "\n",
    "Assignment operation is not allowed\n",
    "\n",
    "Use lambda functions only when the functionality is simple and not used very often."
   ]
  },
  {
   "cell_type": "code",
   "execution_count": 25,
   "metadata": {},
   "outputs": [],
   "source": [
    "def my_sum(lb, ub, f):\n",
    "    total = 0\n",
    "    for i in range(lb, ub + 1):\n",
    "        total += f(i)\n",
    "    return total"
   ]
  },
  {
   "cell_type": "code",
   "execution_count": 26,
   "metadata": {},
   "outputs": [],
   "source": [
    "def i(n): return n # typical function, for lambda def and function are replaced by keyword lambda"
   ]
  },
  {
   "cell_type": "code",
   "execution_count": null,
   "metadata": {},
   "outputs": [],
   "source": [
    "my_sum(5, 10, i)"
   ]
  },
  {
   "cell_type": "code",
   "execution_count": null,
   "metadata": {},
   "outputs": [],
   "source": [
    "my_sum(5, 10, lambda n: n)"
   ]
  },
  {
   "cell_type": "markdown",
   "metadata": {},
   "source": [
    "my_sum(5, 10, lambda n: n * n)"
   ]
  },
  {
   "cell_type": "code",
   "execution_count": null,
   "metadata": {},
   "outputs": [],
   "source": [
    "my_sum(5, 10, lambda n: n * n * n)"
   ]
  },
  {
   "cell_type": "code",
   "execution_count": null,
   "metadata": {},
   "outputs": [],
   "source": [
    "def even(n): return n if n % 2 == 0 else 0 # Another example for typical function"
   ]
  },
  {
   "cell_type": "code",
   "execution_count": null,
   "metadata": {},
   "outputs": [],
   "source": [
    "my_sum(5, 10, even)"
   ]
  },
  {
   "cell_type": "code",
   "execution_count": null,
   "metadata": {},
   "outputs": [],
   "source": [
    "my_sum(5, 10, lambda n: n if n % 2 == 0 else 0)"
   ]
  },
  {
   "cell_type": "code",
   "execution_count": null,
   "metadata": {},
   "outputs": [],
   "source": [
    "my_sum(5, 10, lambda n: n if n % 3 == 0 else 0)"
   ]
  },
  {
   "cell_type": "markdown",
   "metadata": {},
   "source": [
    "# Usage of Lambda Functions"
   ]
  },
  {
   "cell_type": "code",
   "execution_count": null,
   "metadata": {},
   "outputs": [],
   "source": [
    "Lambda functions are typically used while invoking those functions which take functions as arguments. Here are some of the functions which take other functions as arguments.\n",
    "\n",
    "filter\n",
    "\n",
    "map\n",
    "\n",
    "sorted or sort and more\n",
    "\n",
    "There are many Python modules which have functions which take other functions as arguments. "
   ]
  },
  {
   "cell_type": "code",
   "execution_count": 64,
   "metadata": {},
   "outputs": [],
   "source": [
    "users = [\n",
    "    '1,Bryn,Eaken,beaken0@cbc.ca,Female,236.34.175.186',\n",
    "    '2,Smith,Combe,scombe1@xing.com,Male,',\n",
    "    '3,Roland,Wallentin,rwallentin2@aboutads.info,Male,94.67.195.44',\n",
    "    '4,Charlotta,Richten,crichten3@wikia.com,Female,202.51.201.1',\n",
    "    '5,Berne,Coyne,bcoyne4@squarespace.com,,150.246.120.53',\n",
    "    '6,Kesley,Hakonsen,khakonsen5@cbc.ca,Female,227.61.48.174',\n",
    "    \"7,Gray,M'Barron,gmbarron6@altervista.org,Male,190.128.200.183\",\n",
    "    '8,Melinde,Scarf,mscarf7@diigo.com,Female,134.41.141.5',\n",
    "    '9,Arturo,Warkup,awarkup8@nifty.com,Male,',\n",
    "    '10,Annette,Lowthorpe,alowthorpe9@marketwatch.com,Female,63.157.95.191',\n",
    "    '11,Melinda,McOwen,mmcowena@unblog.fr,Female,73.95.183.60',\n",
    "    '12,Minnie,Andrivel,mandrivelb@storify.com,,131.194.233.209',\n",
    "    '13,Taryn,Medhurst,tmedhurstc@ebay.co.uk,Female,65.191.102.59',\n",
    "    '14,Fanni,Whitley,fwhitleyd@who.int,Female,184.210.235.118',\n",
    "    '15,Jareb,Thunderchief,jthunderchiefe@arizona.edu,Male,150.159.27.112',\n",
    "    '16,Sharona,Haffard,shaffardf@kickstarter.com,Female,91.125.183.157',\n",
    "    '17,Pattin,Basant,pbasantg@gov.uk,Male,162.227.228.164',\n",
    "    '18,Beatrice,Butler,bbutlerh@abc.net.au,Female,139.49.169.236',\n",
    "    '19,Linoel,Bucktrout,lbucktrouti@google.ru,Male,18.17.136.105',\n",
    "    '20,Katee,Aveyard,kaveyardj@feedburner.com,Female,60.25.33.89'\n",
    "]"
   ]
  },
  {
   "cell_type": "code",
   "execution_count": 65,
   "metadata": {},
   "outputs": [
    {
     "data": {
      "text/plain": [
       "list"
      ]
     },
     "execution_count": 65,
     "metadata": {},
     "output_type": "execute_result"
    }
   ],
   "source": [
    "type(users)\n"
   ]
  },
  {
   "cell_type": "code",
   "execution_count": 66,
   "metadata": {},
   "outputs": [
    {
     "data": {
      "text/plain": [
       "str"
      ]
     },
     "execution_count": 66,
     "metadata": {},
     "output_type": "execute_result"
    }
   ],
   "source": [
    "type(users[0])"
   ]
  },
  {
   "cell_type": "code",
   "execution_count": 67,
   "metadata": {},
   "outputs": [
    {
     "ename": "TypeError",
     "evalue": "'list' object is not callable",
     "output_type": "error",
     "traceback": [
      "\u001b[1;31m---------------------------------------------------------------------------\u001b[0m",
      "\u001b[1;31mTypeError\u001b[0m                                 Traceback (most recent call last)",
      "\u001b[1;32m<ipython-input-67-ca4788aa8367>\u001b[0m in \u001b[0;36m<module>\u001b[1;34m\u001b[0m\n\u001b[0;32m      3\u001b[0m     \u001b[0musers\u001b[0m\u001b[1;33m\u001b[0m\u001b[1;33m\u001b[0m\u001b[0m\n\u001b[0;32m      4\u001b[0m )\n\u001b[1;32m----> 5\u001b[1;33m \u001b[0mlist\u001b[0m\u001b[1;33m(\u001b[0m\u001b[0mmales\u001b[0m\u001b[1;33m)\u001b[0m\u001b[1;33m\u001b[0m\u001b[1;33m\u001b[0m\u001b[0m\n\u001b[0m",
      "\u001b[1;31mTypeError\u001b[0m: 'list' object is not callable"
     ]
    }
   ],
   "source": [
    "males = filter(\n",
    "    lambda user: user.split(',')[4] == 'Male',\n",
    "    users\n",
    ")\n",
    "list(males)"
   ]
  },
  {
   "cell_type": "code",
   "execution_count": 31,
   "metadata": {},
   "outputs": [
    {
     "data": {
      "text/plain": [
       "['1,Bryn,Eaken,beaken0@cbc.ca,Female,236.34.175.186',\n",
       " '2,Smith,Combe,scombe1@xing.com,Male,',\n",
       " '3,Roland,Wallentin,rwallentin2@aboutads.info,Male,94.67.195.44',\n",
       " '4,Charlotta,Richten,crichten3@wikia.com,Female,202.51.201.1',\n",
       " '6,Kesley,Hakonsen,khakonsen5@cbc.ca,Female,227.61.48.174',\n",
       " \"7,Gray,M'Barron,gmbarron6@altervista.org,Male,190.128.200.183\",\n",
       " '8,Melinde,Scarf,mscarf7@diigo.com,Female,134.41.141.5',\n",
       " '9,Arturo,Warkup,awarkup8@nifty.com,Male,',\n",
       " '10,Annette,Lowthorpe,alowthorpe9@marketwatch.com,Female,63.157.95.191',\n",
       " '11,Melinda,McOwen,mmcowena@unblog.fr,Female,73.95.183.60',\n",
       " '13,Taryn,Medhurst,tmedhurstc@ebay.co.uk,Female,65.191.102.59',\n",
       " '14,Fanni,Whitley,fwhitleyd@who.int,Female,184.210.235.118',\n",
       " '15,Jareb,Thunderchief,jthunderchiefe@arizona.edu,Male,150.159.27.112',\n",
       " '16,Sharona,Haffard,shaffardf@kickstarter.com,Female,91.125.183.157',\n",
       " '17,Pattin,Basant,pbasantg@gov.uk,Male,162.227.228.164',\n",
       " '18,Beatrice,Butler,bbutlerh@abc.net.au,Female,139.49.169.236',\n",
       " '19,Linoel,Bucktrout,lbucktrouti@google.ru,Male,18.17.136.105',\n",
       " '20,Katee,Aveyard,kaveyardj@feedburner.com,Female,60.25.33.89']"
      ]
     },
     "execution_count": 31,
     "metadata": {},
     "output_type": "execute_result"
    }
   ],
   "source": [
    "male_and_females = filter(\n",
    "    lambda user: user.split(',')[4] in ('Male', 'Female'),\n",
    "    users\n",
    ")\n",
    "list(male_and_females)"
   ]
  },
  {
   "cell_type": "code",
   "execution_count": 32,
   "metadata": {},
   "outputs": [
    {
     "data": {
      "text/plain": [
       "18"
      ]
     },
     "execution_count": 32,
     "metadata": {},
     "output_type": "execute_result"
    }
   ],
   "source": [
    "male_and_females = filter(\n",
    "    lambda user: user.split(',')[4] in ('Male', 'Female'),\n",
    "    users\n",
    ")\n",
    "len(list(male_and_females))"
   ]
  },
  {
   "cell_type": "code",
   "execution_count": 68,
   "metadata": {},
   "outputs": [
    {
     "ename": "TypeError",
     "evalue": "'list' object is not callable",
     "output_type": "error",
     "traceback": [
      "\u001b[1;31m---------------------------------------------------------------------------\u001b[0m",
      "\u001b[1;31mTypeError\u001b[0m                                 Traceback (most recent call last)",
      "\u001b[1;32m<ipython-input-68-49fcf4d62d52>\u001b[0m in \u001b[0;36m<module>\u001b[1;34m\u001b[0m\n\u001b[0;32m      3\u001b[0m     \u001b[0musers\u001b[0m\u001b[1;33m\u001b[0m\u001b[1;33m\u001b[0m\u001b[0m\n\u001b[0;32m      4\u001b[0m )\n\u001b[1;32m----> 5\u001b[1;33m \u001b[0mlist\u001b[0m\u001b[1;33m(\u001b[0m\u001b[0muser_ips\u001b[0m\u001b[1;33m)\u001b[0m\u001b[1;33m\u001b[0m\u001b[1;33m\u001b[0m\u001b[0m\n\u001b[0m",
      "\u001b[1;31mTypeError\u001b[0m: 'list' object is not callable"
     ]
    }
   ],
   "source": [
    "user_ips = map(\n",
    "    lambda user: (int(user.split(',')[0]), user.split(',')[-1]),\n",
    "    users\n",
    ")\n",
    "list(user_ips)"
   ]
  },
  {
   "cell_type": "code",
   "execution_count": 34,
   "metadata": {},
   "outputs": [
    {
     "data": {
      "text/plain": [
       "['5,Berne,Coyne,bcoyne4@squarespace.com,,150.246.120.53',\n",
       " '12,Minnie,Andrivel,mandrivelb@storify.com,,131.194.233.209',\n",
       " '1,Bryn,Eaken,beaken0@cbc.ca,Female,236.34.175.186',\n",
       " '4,Charlotta,Richten,crichten3@wikia.com,Female,202.51.201.1',\n",
       " '6,Kesley,Hakonsen,khakonsen5@cbc.ca,Female,227.61.48.174',\n",
       " '8,Melinde,Scarf,mscarf7@diigo.com,Female,134.41.141.5',\n",
       " '10,Annette,Lowthorpe,alowthorpe9@marketwatch.com,Female,63.157.95.191',\n",
       " '11,Melinda,McOwen,mmcowena@unblog.fr,Female,73.95.183.60',\n",
       " '13,Taryn,Medhurst,tmedhurstc@ebay.co.uk,Female,65.191.102.59',\n",
       " '14,Fanni,Whitley,fwhitleyd@who.int,Female,184.210.235.118',\n",
       " '16,Sharona,Haffard,shaffardf@kickstarter.com,Female,91.125.183.157',\n",
       " '18,Beatrice,Butler,bbutlerh@abc.net.au,Female,139.49.169.236',\n",
       " '20,Katee,Aveyard,kaveyardj@feedburner.com,Female,60.25.33.89',\n",
       " '2,Smith,Combe,scombe1@xing.com,Male,',\n",
       " '3,Roland,Wallentin,rwallentin2@aboutads.info,Male,94.67.195.44',\n",
       " \"7,Gray,M'Barron,gmbarron6@altervista.org,Male,190.128.200.183\",\n",
       " '9,Arturo,Warkup,awarkup8@nifty.com,Male,',\n",
       " '15,Jareb,Thunderchief,jthunderchiefe@arizona.edu,Male,150.159.27.112',\n",
       " '17,Pattin,Basant,pbasantg@gov.uk,Male,162.227.228.164',\n",
       " '19,Linoel,Bucktrout,lbucktrouti@google.ru,Male,18.17.136.105']"
      ]
     },
     "execution_count": 34,
     "metadata": {},
     "output_type": "execute_result"
    }
   ],
   "source": [
    "sort_by_gender_and_id = sorted(\n",
    "    users, \n",
    "    key=lambda user: (user.split(',')[4], int(user.split(',')[0]))\n",
    ")\n",
    "sort_by_gender_and_id"
   ]
  },
  {
   "cell_type": "markdown",
   "metadata": {},
   "source": [
    "# function -extra examples"
   ]
  },
  {
   "cell_type": "code",
   "execution_count": 36,
   "metadata": {},
   "outputs": [
    {
     "name": "stdout",
     "output_type": "stream",
     "text": [
      "Hello Maheer  Good Morning\n",
      "Hello Ravi  Good Morning\n"
     ]
    }
   ],
   "source": [
    "#function examples\n",
    "def wish(name):\n",
    "    print(\"Hello\",name,\" Good Morning\")   \n",
    "wish(\"Maheer\")\n",
    "wish(\"Ravi\")   "
   ]
  },
  {
   "cell_type": "code",
   "execution_count": 38,
   "metadata": {},
   "outputs": [
    {
     "name": "stdout",
     "output_type": "stream",
     "text": [
      "The Square of 4 is 16\n",
      "The Square of 5 is 25\n"
     ]
    }
   ],
   "source": [
    "def squareIt(number):\n",
    "    print(\"The Square of\",number,\"is\", number*number)\n",
    "squareIt(4)\n",
    "squareIt(5)   "
   ]
  },
  {
   "cell_type": "code",
   "execution_count": 40,
   "metadata": {},
   "outputs": [
    {
     "name": "stdout",
     "output_type": "stream",
     "text": [
      "The sum is 30\n",
      "The sum is 300\n"
     ]
    }
   ],
   "source": [
    "def add(x,y):\n",
    "    return x+y   \n",
    "result=add(10,20)   \n",
    "print(\"The sum is\",result)   \n",
    "print(\"The sum is\",add(100,200))"
   ]
  },
  {
   "cell_type": "code",
   "execution_count": 42,
   "metadata": {},
   "outputs": [],
   "source": [
    " def even_odd(num):\n",
    "        if num%2==0:\n",
    "            print(num,\"is Even Number\")\n",
    "        else:\n",
    "            print(num,\"is Odd Number\")\n"
   ]
  },
  {
   "cell_type": "code",
   "execution_count": 43,
   "metadata": {},
   "outputs": [
    {
     "name": "stdout",
     "output_type": "stream",
     "text": [
      "10 is Even Number\n",
      "15 is Odd Number\n"
     ]
    }
   ],
   "source": [
    "even_odd(10)   \n",
    "even_odd(15)"
   ]
  },
  {
   "cell_type": "code",
   "execution_count": 46,
   "metadata": {},
   "outputs": [
    {
     "name": "stdout",
     "output_type": "stream",
     "text": [
      "The Sum is : 150\n",
      "The Subtraction is : 50\n"
     ]
    }
   ],
   "source": [
    " def sum_sub(a,b):   \n",
    "        sum=a+b   \n",
    "        sub=a-b   \n",
    "        return sum,sub   \n"
   ]
  },
  {
   "cell_type": "code",
   "execution_count": 47,
   "metadata": {},
   "outputs": [
    {
     "name": "stdout",
     "output_type": "stream",
     "text": [
      "The Sum is : 150\n",
      "The Subtraction is : 50\n"
     ]
    }
   ],
   "source": [
    "x,y=sum_sub(100,50) \n",
    "print(\"The Sum is :\",x)   \n",
    "print(\"The Subtraction is :\",y) "
   ]
  },
  {
   "cell_type": "code",
   "execution_count": 48,
   "metadata": {},
   "outputs": [],
   "source": [
    " def calc(a,b):\n",
    "        sum=a+b\n",
    "        sub=a-b\n",
    "        mul=a*b\n",
    "        div=a/b\n",
    "        return sum,sub,mul,div   "
   ]
  },
  {
   "cell_type": "code",
   "execution_count": 50,
   "metadata": {},
   "outputs": [
    {
     "name": "stdout",
     "output_type": "stream",
     "text": [
      "The Results are\n",
      "150\n",
      "50\n",
      "5000\n",
      "2.0\n"
     ]
    }
   ],
   "source": [
    "t=calc(100,50)   \n",
    "print(\"The Results are\")\n",
    "for i in t:\n",
    "    print(i)   "
   ]
  },
  {
   "cell_type": "code",
   "execution_count": 52,
   "metadata": {},
   "outputs": [],
   "source": [
    "#examples key word argument\n",
    "\n",
    "def wish(name,msg):\n",
    "    print(\"Hello\",name,msg)   \n",
    "    "
   ]
  },
  {
   "cell_type": "code",
   "execution_count": 54,
   "metadata": {},
   "outputs": [
    {
     "name": "stdout",
     "output_type": "stream",
     "text": [
      "Hello Shakeer Good Morning\n",
      "Hello Basha Good Morning\n"
     ]
    }
   ],
   "source": [
    "wish(name=\"Shakeer\",msg=\"Good Morning\")   \n",
    "wish(msg=\"Good Morning\",name=\"Shakeer\")   "
   ]
  },
  {
   "cell_type": "code",
   "execution_count": 55,
   "metadata": {},
   "outputs": [],
   "source": [
    "#default argument\n",
    "def wish(name=\"Guest\"):  \n",
    "    print(\"Hello\",name,\"Good Morning\")   "
   ]
  },
  {
   "cell_type": "code",
   "execution_count": 56,
   "metadata": {},
   "outputs": [],
   "source": [
    "#variable length\n",
    "def sum(*n):\n",
    "    total=0\n",
    "    for n1 in n:\n",
    "        total=total+n1\n",
    "        print(\"The Sum=\",total)   "
   ]
  },
  {
   "cell_type": "code",
   "execution_count": 57,
   "metadata": {},
   "outputs": [
    {
     "name": "stdout",
     "output_type": "stream",
     "text": [
      "The Sum= 10\n",
      "The Sum= 10\n",
      "The Sum= 30\n",
      "The Sum= 10\n",
      "The Sum= 30\n",
      "The Sum= 60\n",
      "The Sum= 100\n"
     ]
    }
   ],
   "source": [
    "sum()   \n",
    "sum(10)   \n",
    "sum(10,20)   \n",
    "sum(10,20,30,40)   "
   ]
  },
  {
   "cell_type": "code",
   "execution_count": 58,
   "metadata": {},
   "outputs": [],
   "source": [
    "def  f1(n1,*s): \n",
    "    print(n1)   \n",
    "    for s1 in s:\n",
    "        print(s1)   "
   ]
  },
  {
   "cell_type": "code",
   "execution_count": 59,
   "metadata": {},
   "outputs": [
    {
     "name": "stdout",
     "output_type": "stream",
     "text": [
      "10\n",
      "10\n",
      "20\n",
      "30\n",
      "40\n",
      "10\n",
      "A\n",
      "30\n",
      "B\n"
     ]
    }
   ],
   "source": [
    "f1(10)  \n",
    "f1(10,20,30,40)   \n",
    "f1(10,\"A\",30,\"B\")   "
   ]
  },
  {
   "cell_type": "code",
   "execution_count": null,
   "metadata": {},
   "outputs": [],
   "source": [
    "#lamda function\n",
    "#Write a program to create a lambda function to find square of given number"
   ]
  },
  {
   "cell_type": "code",
   "execution_count": 69,
   "metadata": {},
   "outputs": [],
   "source": [
    " s=lambda n:n*n       "
   ]
  },
  {
   "cell_type": "code",
   "execution_count": 63,
   "metadata": {},
   "outputs": [
    {
     "name": "stdout",
     "output_type": "stream",
     "text": [
      "The Square of 4 is : 16\n",
      "The Square of 5 is : 25\n"
     ]
    }
   ],
   "source": [
    "print(\"The Square of 4 is :\",s(4))   \n",
    "print(\"The Square of 5 is :\",s(5))"
   ]
  },
  {
   "cell_type": "code",
   "execution_count": 70,
   "metadata": {},
   "outputs": [],
   "source": [
    "# Lambda function to find sum of 2 given numbers \n",
    "s=lambda a,b:a+b    "
   ]
  },
  {
   "cell_type": "code",
   "execution_count": 71,
   "metadata": {},
   "outputs": [
    {
     "name": "stdout",
     "output_type": "stream",
     "text": [
      "The Sum of 10,20 is: 30\n",
      "The Sum of 100,200 is: 300\n"
     ]
    }
   ],
   "source": [
    "print(\"The Sum of 10,20 is:\",s(10,20))\n",
    "print(\"The Sum of 100,200 is:\",s(100,200))   "
   ]
  },
  {
   "cell_type": "code",
   "execution_count": 68,
   "metadata": {},
   "outputs": [
    {
     "name": "stdout",
     "output_type": "stream",
     "text": [
      "[2, 4, 6, 8, 10]\n"
     ]
    }
   ],
   "source": [
    "#using lamda doubling\n",
    "l=[1,2,3,4,5]   \n",
    "l1=list(map(lambda x:2*x,l))   \n",
    "print(l1)   "
   ]
  },
  {
   "cell_type": "markdown",
   "metadata": {},
   "source": [
    "# collections"
   ]
  },
  {
   "cell_type": "markdown",
   "metadata": {},
   "source": [
    "## List"
   ]
  },
  {
   "cell_type": "markdown",
   "metadata": {},
   "source": [
    "Group of homogenous elements.\n",
    "\n",
    "There can be duplicates in the list.\n",
    "\n",
    "list can be created by enclosing elements in [] - example [1, 2, 3, 4].\n",
    "\n",
    "Empty list can be initialized using [] or list()."
   ]
  },
  {
   "cell_type": "code",
   "execution_count": 72,
   "metadata": {},
   "outputs": [],
   "source": [
    "#example\n",
    "lst = [1, 2, 3, 3, 4, 4]"
   ]
  },
  {
   "cell_type": "code",
   "execution_count": 74,
   "metadata": {},
   "outputs": [
    {
     "name": "stdout",
     "output_type": "stream",
     "text": [
      "[1, 2, 3, 3, 4, 4]\n",
      "<class 'list'>\n"
     ]
    }
   ],
   "source": [
    "print(lst)\n",
    "print(type(lst))"
   ]
  },
  {
   "cell_type": "code",
   "execution_count": 75,
   "metadata": {},
   "outputs": [
    {
     "name": "stdout",
     "output_type": "stream",
     "text": [
      "[]\n"
     ]
    }
   ],
   "source": [
    "lst2=[]\n",
    "print(lst2)"
   ]
  },
  {
   "cell_type": "code",
   "execution_count": 76,
   "metadata": {},
   "outputs": [
    {
     "ename": "TypeError",
     "evalue": "'list' object is not callable",
     "output_type": "error",
     "traceback": [
      "\u001b[1;31m---------------------------------------------------------------------------\u001b[0m",
      "\u001b[1;31mTypeError\u001b[0m                                 Traceback (most recent call last)",
      "\u001b[1;32m<ipython-input-76-5fd2db5cd9c6>\u001b[0m in \u001b[0;36m<module>\u001b[1;34m\u001b[0m\n\u001b[1;32m----> 1\u001b[1;33m \u001b[0mlst3\u001b[0m \u001b[1;33m=\u001b[0m \u001b[0mlist\u001b[0m\u001b[1;33m(\u001b[0m\u001b[1;33m)\u001b[0m\u001b[1;33m\u001b[0m\u001b[1;33m\u001b[0m\u001b[0m\n\u001b[0m\u001b[0;32m      2\u001b[0m \u001b[0mprint\u001b[0m\u001b[1;33m(\u001b[0m\u001b[0mlst3\u001b[0m\u001b[1;33m)\u001b[0m\u001b[1;33m\u001b[0m\u001b[1;33m\u001b[0m\u001b[0m\n",
      "\u001b[1;31mTypeError\u001b[0m: 'list' object is not callable"
     ]
    }
   ],
   "source": [
    "lst3 = list()\n",
    "print(lst3)"
   ]
  },
  {
   "cell_type": "markdown",
   "metadata": {},
   "source": [
    "#operator on lists\n",
    "in - check if element exists\n",
    "not in- \n",
    "len - to get the number of elements.\n",
    "sorted - to sort the data (original collection will be untouched). Typically, we assign the result of sorting to a new collection.\n",
    "\n",
    "sum, min, max, etc - arithmetic operations\n",
    "split-\n",
    "count()-\n",
    "index()-\n",
    "append-\n",
    "insert-\n",
    "extend()-\n",
    "remove()-\n",
    "pop()-removes last elements\n",
    "reverse()-\n",
    "clear()-\n"
   ]
  },
  {
   "cell_type": "code",
   "execution_count": 78,
   "metadata": {},
   "outputs": [
    {
     "data": {
      "text/plain": [
       "False"
      ]
     },
     "execution_count": 78,
     "metadata": {},
     "output_type": "execute_result"
    }
   ],
   "source": [
    "#In - example:\n",
    "lst = [1, 2, 3, 4] \n",
    "10 in lst"
   ]
  },
  {
   "cell_type": "code",
   "execution_count": 79,
   "metadata": {},
   "outputs": [
    {
     "name": "stdout",
     "output_type": "stream",
     "text": [
      "4\n"
     ]
    }
   ],
   "source": [
    "#length\n",
    "\n",
    "print(len(lst))"
   ]
  },
  {
   "cell_type": "code",
   "execution_count": 80,
   "metadata": {},
   "outputs": [
    {
     "name": "stdout",
     "output_type": "stream",
     "text": [
      "[1, 2, 3, 4]\n"
     ]
    }
   ],
   "source": [
    "#sorted\n",
    "print(sorted(lst))"
   ]
  },
  {
   "cell_type": "code",
   "execution_count": 82,
   "metadata": {},
   "outputs": [
    {
     "name": "stdout",
     "output_type": "stream",
     "text": [
      "<class 'str'>\n",
      "['Python', 'Course']\n",
      "<class 'list'>\n"
     ]
    }
   ],
   "source": [
    "#split\n",
    "\n",
    "str1=\"Python Course\"\n",
    "print(type(str1))\n",
    "lst=str1.split(' ')  \n",
    "print(lst)\n",
    "print(type(lst))"
   ]
  },
  {
   "cell_type": "code",
   "execution_count": 84,
   "metadata": {},
   "outputs": [
    {
     "name": "stdout",
     "output_type": "stream",
     "text": [
      "Python Course\n"
     ]
    }
   ],
   "source": [
    "#index\n",
    "print(lst[0],lst[1])"
   ]
  },
  {
   "cell_type": "code",
   "execution_count": 82,
   "metadata": {},
   "outputs": [
    {
     "name": "stdout",
     "output_type": "stream",
     "text": [
      "[3, 5, 7]\n",
      "[5, 7, 9]\n",
      "[4, 5, 6, 7]\n",
      "[9, 7, 5]\n",
      "[5, 6, 7, 8, 9, 10]\n"
     ]
    }
   ],
   "source": [
    "#slice\n",
    "l1=[1,2,3,4,5,6,7,8,9,10]   \n",
    "print(l1[2:7:2])   \n",
    "print(l1[4::2])   \n",
    "print(l1[3:7])   \n",
    "print(l1[8:2:-2])   \n",
    "print(l1[4:100])   "
   ]
  },
  {
   "cell_type": "code",
   "execution_count": 85,
   "metadata": {},
   "outputs": [
    {
     "name": "stdout",
     "output_type": "stream",
     "text": [
      "0\n",
      "1\n",
      "2\n",
      "3\n",
      "4\n",
      "5\n",
      "6\n",
      "7\n",
      "8\n",
      "9\n",
      "10\n"
     ]
    }
   ],
   "source": [
    "#for loop\n",
    "n=[0,1,2,3,4,5,6,7,8,9,10]   \n",
    "for n1 in n:\n",
    "    print(n1)   "
   ]
  },
  {
   "cell_type": "code",
   "execution_count": 85,
   "metadata": {},
   "outputs": [
    {
     "name": "stdout",
     "output_type": "stream",
     "text": [
      "0\n",
      "2\n",
      "4\n",
      "6\n",
      "8\n",
      "10\n"
     ]
    }
   ],
   "source": [
    "#for loop- even numbers\n",
    "n=[0,1,2,3,4,5,6,7,8,9,10]   \n",
    "for n1 in n:   \n",
    "    if n1%2==0:   \n",
    "        print(n1)   "
   ]
  },
  {
   "cell_type": "code",
   "execution_count": 86,
   "metadata": {},
   "outputs": [
    {
     "name": "stdout",
     "output_type": "stream",
     "text": [
      "1\n",
      "4\n",
      "2\n",
      "0\n"
     ]
    }
   ],
   "source": [
    "#count- It will print occurances\n",
    "n=[1,2,2,2,2,3,3]   \n",
    "print(n.count(1))   \n",
    "print(n.count(2))   \n",
    "print(n.count(3))   \n",
    "print(n.count(4))"
   ]
  },
  {
   "cell_type": "code",
   "execution_count": 87,
   "metadata": {},
   "outputs": [
    {
     "name": "stdout",
     "output_type": "stream",
     "text": [
      "['A', 'B', 'C']\n"
     ]
    }
   ],
   "source": [
    "#append(): addd elements at end\n",
    "#mutable\n",
    "\n",
    "list=[]   \n",
    "list.append(\"A\")   \n",
    "list.append(\"B\")   \n",
    "list.append(\"C\")   \n",
    "print(list) "
   ]
  },
  {
   "cell_type": "code",
   "execution_count": 88,
   "metadata": {},
   "outputs": [
    {
     "name": "stdout",
     "output_type": "stream",
     "text": [
      "[1, 888, 2, 3, 4, 5]\n"
     ]
    }
   ],
   "source": [
    "#insert - at specific position\n",
    "n=[1,2,3,4,5]   \n",
    "n.insert(1,888)   \n",
    "print(n)\n"
   ]
  },
  {
   "cell_type": "code",
   "execution_count": 89,
   "metadata": {},
   "outputs": [],
   "source": [
    "l = n + [6]"
   ]
  },
  {
   "cell_type": "code",
   "execution_count": 90,
   "metadata": {},
   "outputs": [
    {
     "name": "stdout",
     "output_type": "stream",
     "text": [
      "[1, 888, 2, 3, 4, 5, 6]\n"
     ]
    }
   ],
   "source": [
    "print(l)"
   ]
  },
  {
   "cell_type": "code",
   "execution_count": 89,
   "metadata": {},
   "outputs": [
    {
     "name": "stdout",
     "output_type": "stream",
     "text": [
      "['Lap', 'Mobile', 'TV', 'RC', 'KF', 'FO']\n"
     ]
    }
   ],
   "source": [
    "#extend\n",
    "order1=[\"Lap\",\"Mobile\",\"TV\"]\n",
    "order2=[\"RC\",\"KF\",\"FO\"]\n",
    "order1.extend(order2)\n",
    "print(order1)   "
   ]
  },
  {
   "cell_type": "code",
   "execution_count": 91,
   "metadata": {},
   "outputs": [
    {
     "name": "stdout",
     "output_type": "stream",
     "text": [
      "[20, 100, 30]\n"
     ]
    }
   ],
   "source": [
    "#remove\n",
    "n=[10,20,100,30]\n",
    "n.remove(10)\n",
    "print(n)  "
   ]
  },
  {
   "cell_type": "code",
   "execution_count": 94,
   "metadata": {},
   "outputs": [
    {
     "name": "stdout",
     "output_type": "stream",
     "text": [
      "60\n",
      "50\n",
      "[10, 20, 30, 40]\n"
     ]
    }
   ],
   "source": [
    "#pop():it will delete from last position\n",
    "n=[10,20,30,40,50,60]\n",
    "print(n.pop())\n",
    "print(n.pop())\n",
    "print(n)   "
   ]
  },
  {
   "cell_type": "code",
   "execution_count": 97,
   "metadata": {},
   "outputs": [
    {
     "name": "stdout",
     "output_type": "stream",
     "text": [
      "[60, 50, 40, 30, 20, 10]\n"
     ]
    }
   ],
   "source": [
    "#reverse:\n",
    "n=[10,20,30,40,50,60]\n",
    "n.reverse()\n",
    "print(n)"
   ]
  },
  {
   "cell_type": "code",
   "execution_count": null,
   "metadata": {},
   "outputs": [],
   "source": [
    "#clear\n",
    "l.clear()"
   ]
  },
  {
   "cell_type": "markdown",
   "metadata": {},
   "source": [
    "# Tuple"
   ]
  },
  {
   "cell_type": "code",
   "execution_count": null,
   "metadata": {},
   "outputs": [],
   "source": [
    "Tuple is exactly same as List except that it is immutable. \n",
    "i.e once we creates Tuple object,we cannot perform any changes in that object.  \n",
    " Duplicates are allowed  \n",
    "tuple can be created - ()\n"
   ]
  },
  {
   "cell_type": "code",
   "execution_count": 95,
   "metadata": {},
   "outputs": [
    {
     "name": "stdout",
     "output_type": "stream",
     "text": [
      "(10, 20, 20)\n",
      "<class 'tuple'>\n",
      "<class 'list'>\n"
     ]
    }
   ],
   "source": [
    "t=(10,20,20)\n",
    "lst=[10,20,30]\n",
    "print(t)\n",
    "print(type(t)) \n",
    "print(type(lst))"
   ]
  },
  {
   "cell_type": "code",
   "execution_count": 96,
   "metadata": {},
   "outputs": [
    {
     "ename": "TypeError",
     "evalue": "'tuple' object does not support item assignment",
     "output_type": "error",
     "traceback": [
      "\u001b[1;31m---------------------------------------------------------------------------\u001b[0m",
      "\u001b[1;31mTypeError\u001b[0m                                 Traceback (most recent call last)",
      "\u001b[1;32m<ipython-input-96-f82fc2ff44ee>\u001b[0m in \u001b[0;36m<module>\u001b[1;34m\u001b[0m\n\u001b[0;32m      1\u001b[0m \u001b[1;31m#immutability\u001b[0m\u001b[1;33m\u001b[0m\u001b[1;33m\u001b[0m\u001b[1;33m\u001b[0m\u001b[0m\n\u001b[0;32m      2\u001b[0m \u001b[0mt\u001b[0m\u001b[1;33m=\u001b[0m\u001b[1;33m(\u001b[0m\u001b[1;36m10\u001b[0m\u001b[1;33m,\u001b[0m\u001b[1;36m20\u001b[0m\u001b[1;33m,\u001b[0m\u001b[1;36m30\u001b[0m\u001b[1;33m,\u001b[0m\u001b[1;36m40\u001b[0m\u001b[1;33m)\u001b[0m\u001b[1;33m\u001b[0m\u001b[1;33m\u001b[0m\u001b[0m\n\u001b[1;32m----> 3\u001b[1;33m \u001b[0mt\u001b[0m\u001b[1;33m[\u001b[0m\u001b[1;36m1\u001b[0m\u001b[1;33m]\u001b[0m\u001b[1;33m=\u001b[0m\u001b[1;36m70\u001b[0m\u001b[1;33m\u001b[0m\u001b[1;33m\u001b[0m\u001b[0m\n\u001b[0m",
      "\u001b[1;31mTypeError\u001b[0m: 'tuple' object does not support item assignment"
     ]
    }
   ],
   "source": [
    "#immutability\n",
    "t=(10,20,30,40)  \n",
    "t[1]=70 "
   ]
  },
  {
   "cell_type": "code",
   "execution_count": 100,
   "metadata": {},
   "outputs": [
    {
     "name": "stdout",
     "output_type": "stream",
     "text": [
      "10\n",
      "70\n"
     ]
    }
   ],
   "source": [
    "#index:\n",
    "t=(10,20,30,40,50,60,70)\n",
    "print(t[0]) #10   \n",
    "print(t[-1])  #70"
   ]
  },
  {
   "cell_type": "code",
   "execution_count": 99,
   "metadata": {},
   "outputs": [
    {
     "name": "stdout",
     "output_type": "stream",
     "text": [
      "(20, 30, 40, 50)\n",
      "(30, 40, 50, 60)\n",
      "(10, 30, 50)\n"
     ]
    }
   ],
   "source": [
    "#slice\n",
    "t=(10,20,30,40,50,60)   \n",
    "print(t[1:5])\n",
    "print(t[2:100])\n",
    "print(t[::2])   "
   ]
  },
  {
   "cell_type": "code",
   "execution_count": 103,
   "metadata": {},
   "outputs": [
    {
     "name": "stdout",
     "output_type": "stream",
     "text": [
      "(10, 20, 30, 40, 50, 60)\n"
     ]
    }
   ],
   "source": [
    "#concat tuple (+)\n",
    "t1=(10,20,30)\n",
    "t2=(40,50,60)\n",
    "t3=t1+t2\n",
    "print(t3)"
   ]
  },
  {
   "cell_type": "code",
   "execution_count": 104,
   "metadata": {},
   "outputs": [
    {
     "name": "stdout",
     "output_type": "stream",
     "text": [
      "(1, 2, 3, 4, 5, 6, 1, 2, 3, 4, 5, 6, 1, 2, 3, 4, 5, 6, 1, 2, 3, 4, 5, 6, 1, 2, 3, 4, 5, 6, 1, 2, 3, 4, 5, 6, 1, 2, 3, 4, 5, 6, 1, 2, 3, 4, 5, 6, 1, 2, 3, 4, 5, 6, 1, 2, 3, 4, 5, 6)\n"
     ]
    }
   ],
   "source": [
    "#multiplication (*)\n",
    "t1=(1,2,3,4,5,6)\n",
    "t2=t1*10\n",
    "print(t2)"
   ]
  },
  {
   "cell_type": "code",
   "execution_count": 106,
   "metadata": {},
   "outputs": [
    {
     "name": "stdout",
     "output_type": "stream",
     "text": [
      "6\n"
     ]
    }
   ],
   "source": [
    "#len\n",
    "\n",
    "t=(1,2,3,4,5,6)\n",
    "print(len(t))"
   ]
  },
  {
   "cell_type": "code",
   "execution_count": 100,
   "metadata": {},
   "outputs": [
    {
     "name": "stdout",
     "output_type": "stream",
     "text": [
      "2\n"
     ]
    }
   ],
   "source": [
    "#count\n",
    "t=(10,200,10,110,220)  \n",
    "print(t.count(10)) #3 "
   ]
  },
  {
   "cell_type": "code",
   "execution_count": 101,
   "metadata": {},
   "outputs": [
    {
     "name": "stdout",
     "output_type": "stream",
     "text": [
      "0\n"
     ]
    }
   ],
   "source": [
    "#index-\n",
    "t=(10,20,10,10,20)\n",
    "print(t.index(10))"
   ]
  },
  {
   "cell_type": "code",
   "execution_count": 109,
   "metadata": {},
   "outputs": [
    {
     "name": "stdout",
     "output_type": "stream",
     "text": [
      "(40, 10, 30, 20, 100)\n",
      "[10, 20, 30, 40, 100]\n"
     ]
    }
   ],
   "source": [
    "#sorted\n",
    "t1=(40,10,30,20,100)  \n",
    "t2=sorted(t1)   \n",
    "print(t1)\n",
    "print(t2)   "
   ]
  },
  {
   "cell_type": "code",
   "execution_count": 110,
   "metadata": {},
   "outputs": [
    {
     "name": "stdout",
     "output_type": "stream",
     "text": [
      "[100, 40, 30, 20, 10]\n"
     ]
    }
   ],
   "source": [
    "t1=sorted(t2,reverse=True) \n",
    "print(t1)\n"
   ]
  },
  {
   "cell_type": "code",
   "execution_count": 111,
   "metadata": {},
   "outputs": [
    {
     "name": "stdout",
     "output_type": "stream",
     "text": [
      "10\n",
      "40\n"
     ]
    }
   ],
   "source": [
    "#mix,min\n",
    "\n",
    "t=(40,10,30,20)   \n",
    "print(min(t))\n",
    "print(max(t))"
   ]
  },
  {
   "cell_type": "markdown",
   "metadata": {},
   "source": [
    "## Set"
   ]
  },
  {
   "cell_type": "code",
   "execution_count": null,
   "metadata": {},
   "outputs": [],
   "source": [
    "Mutable.\n",
    "If we want to represent a group of unique values as a single entity then we should go for set. \n",
    "Duplicates are not allowed. \n",
    "Indexing and slicing not allowed for the set\n",
    "Set objects are mutable\n",
    "Same like list\n",
    " We can represent set elements within curly braces and with comma seperation "
   ]
  },
  {
   "cell_type": "code",
   "execution_count": 103,
   "metadata": {},
   "outputs": [
    {
     "name": "stdout",
     "output_type": "stream",
     "text": [
      "{40, 10, 20, 30}\n",
      "<class 'set'>\n"
     ]
    }
   ],
   "source": [
    "s1={10,20,30,40,10}\n",
    "print(s1)\n",
    "print(type(s1))"
   ]
  },
  {
   "cell_type": "code",
   "execution_count": 105,
   "metadata": {},
   "outputs": [
    {
     "name": "stdout",
     "output_type": "stream",
     "text": [
      "[10, 20, 30, 40, 10, 20, 10]\n",
      "{40, 10, 20, 30}\n",
      "<class 'set'>\n"
     ]
    }
   ],
   "source": [
    "#convert any sequence to set\n",
    "l = [10,20,30,40,10,20,10]\n",
    "print(l)\n",
    "s=set(l)\n",
    "print(s)\n",
    "print(type(s))"
   ]
  },
  {
   "cell_type": "code",
   "execution_count": 115,
   "metadata": {},
   "outputs": [
    {
     "name": "stdout",
     "output_type": "stream",
     "text": [
      "{40, 10, 20, 30}\n"
     ]
    }
   ],
   "source": [
    "#add\n",
    "s={10,20,30}\n",
    "s.add(40);\n",
    "print(s)"
   ]
  },
  {
   "cell_type": "code",
   "execution_count": null,
   "metadata": {},
   "outputs": [],
   "source": [
    " We can use add() to add individual item to the Set,where as we can use update() function \n",
    "to add multiple items to Set.  add() function can take only one argument where as update()  function \n",
    "can take any number of arguments but all arguments should be iterable objects. "
   ]
  },
  {
   "cell_type": "code",
   "execution_count": 116,
   "metadata": {},
   "outputs": [
    {
     "name": "stdout",
     "output_type": "stream",
     "text": [
      "{0, 1, 2, 3, 4, 40, 10, 50, 20, 60, 30}\n"
     ]
    }
   ],
   "source": [
    "#example\n",
    "s={10,20,30}\n",
    "l=[40,50,60,10]\n",
    "s.update(l,range(5))\n",
    "print(s)   "
   ]
  },
  {
   "cell_type": "code",
   "execution_count": 117,
   "metadata": {},
   "outputs": [],
   "source": [
    "s.update(range(1,10,2),range(0,10,2)) "
   ]
  },
  {
   "cell_type": "code",
   "execution_count": 118,
   "metadata": {},
   "outputs": [
    {
     "name": "stdout",
     "output_type": "stream",
     "text": [
      "{0, 1, 2, 3, 4, 5, 6, 7, 40, 9, 10, 8, 50, 20, 60, 30}\n"
     ]
    }
   ],
   "source": [
    "print(s)"
   ]
  },
  {
   "cell_type": "code",
   "execution_count": 119,
   "metadata": {},
   "outputs": [
    {
     "ename": "TypeError",
     "evalue": "'int' object is not iterable",
     "output_type": "error",
     "traceback": [
      "\u001b[1;31m---------------------------------------------------------------------------\u001b[0m",
      "\u001b[1;31mTypeError\u001b[0m                                 Traceback (most recent call last)",
      "\u001b[1;32m<ipython-input-119-191c4238be0b>\u001b[0m in \u001b[0;36m<module>\u001b[1;34m\u001b[0m\n\u001b[1;32m----> 1\u001b[1;33m \u001b[0ms\u001b[0m\u001b[1;33m.\u001b[0m\u001b[0mupdate\u001b[0m\u001b[1;33m(\u001b[0m\u001b[1;36m10\u001b[0m\u001b[1;33m)\u001b[0m\u001b[1;33m\u001b[0m\u001b[1;33m\u001b[0m\u001b[0m\n\u001b[0m\u001b[0;32m      2\u001b[0m \u001b[0mprint\u001b[0m\u001b[1;33m(\u001b[0m\u001b[0ms\u001b[0m\u001b[1;33m)\u001b[0m\u001b[1;33m\u001b[0m\u001b[1;33m\u001b[0m\u001b[0m\n",
      "\u001b[1;31mTypeError\u001b[0m: 'int' object is not iterable"
     ]
    }
   ],
   "source": [
    "s.update(10)\n",
    "print(s) "
   ]
  },
  {
   "cell_type": "code",
   "execution_count": null,
   "metadata": {},
   "outputs": [],
   "source": [
    "#remove\n",
    "It removes specified element from the set. \n",
    "If the specified element not present in the Set then we will get KeyError "
   ]
  },
  {
   "cell_type": "code",
   "execution_count": 106,
   "metadata": {},
   "outputs": [
    {
     "ename": "KeyError",
     "evalue": "300",
     "output_type": "error",
     "traceback": [
      "\u001b[1;31m---------------------------------------------------------------------------\u001b[0m",
      "\u001b[1;31mKeyError\u001b[0m                                  Traceback (most recent call last)",
      "\u001b[1;32m<ipython-input-106-23996b216e69>\u001b[0m in \u001b[0;36m<module>\u001b[1;34m\u001b[0m\n\u001b[0;32m      1\u001b[0m \u001b[0ms\u001b[0m\u001b[1;33m=\u001b[0m\u001b[1;33m{\u001b[0m\u001b[1;36m40\u001b[0m\u001b[1;33m,\u001b[0m\u001b[1;36m10\u001b[0m\u001b[1;33m,\u001b[0m\u001b[1;36m30\u001b[0m\u001b[1;33m,\u001b[0m\u001b[1;36m20\u001b[0m\u001b[1;33m,\u001b[0m\u001b[1;36m50\u001b[0m\u001b[1;33m}\u001b[0m\u001b[1;33m\u001b[0m\u001b[1;33m\u001b[0m\u001b[0m\n\u001b[1;32m----> 2\u001b[1;33m \u001b[0ms\u001b[0m\u001b[1;33m.\u001b[0m\u001b[0mremove\u001b[0m\u001b[1;33m(\u001b[0m\u001b[1;36m300\u001b[0m\u001b[1;33m)\u001b[0m\u001b[1;33m\u001b[0m\u001b[1;33m\u001b[0m\u001b[0m\n\u001b[0m\u001b[0;32m      3\u001b[0m \u001b[0mprint\u001b[0m\u001b[1;33m(\u001b[0m\u001b[0ms\u001b[0m\u001b[1;33m)\u001b[0m\u001b[1;33m\u001b[0m\u001b[1;33m\u001b[0m\u001b[0m\n",
      "\u001b[1;31mKeyError\u001b[0m: 300"
     ]
    }
   ],
   "source": [
    "s={40,10,30,20,50}\n",
    "s.remove(300) \n",
    "print(s)"
   ]
  },
  {
   "cell_type": "code",
   "execution_count": 107,
   "metadata": {},
   "outputs": [
    {
     "name": "stdout",
     "output_type": "stream",
     "text": [
      "{10, 20, 30}\n"
     ]
    }
   ],
   "source": [
    "#discard: same as remove but will not give error if element not found.\n",
    "s={10,20,30} \n",
    "s.discard(300) \n",
    "print(s)"
   ]
  },
  {
   "cell_type": "code",
   "execution_count": 122,
   "metadata": {},
   "outputs": [
    {
     "name": "stdout",
     "output_type": "stream",
     "text": [
      "{10, 20, 30}\n",
      "set()\n"
     ]
    }
   ],
   "source": [
    "#clear\n",
    "\n",
    "s={10,20,30}\n",
    "print(s)\n",
    "s.clear()\n",
    "print(s) "
   ]
  },
  {
   "cell_type": "code",
   "execution_count": 108,
   "metadata": {},
   "outputs": [
    {
     "name": "stdout",
     "output_type": "stream",
     "text": [
      "Help on set object:\n",
      "\n",
      "class set(object)\n",
      " |  set() -> new empty set object\n",
      " |  set(iterable) -> new set object\n",
      " |  \n",
      " |  Build an unordered collection of unique elements.\n",
      " |  \n",
      " |  Methods defined here:\n",
      " |  \n",
      " |  __and__(self, value, /)\n",
      " |      Return self&value.\n",
      " |  \n",
      " |  __contains__(...)\n",
      " |      x.__contains__(y) <==> y in x.\n",
      " |  \n",
      " |  __eq__(self, value, /)\n",
      " |      Return self==value.\n",
      " |  \n",
      " |  __ge__(self, value, /)\n",
      " |      Return self>=value.\n",
      " |  \n",
      " |  __getattribute__(self, name, /)\n",
      " |      Return getattr(self, name).\n",
      " |  \n",
      " |  __gt__(self, value, /)\n",
      " |      Return self>value.\n",
      " |  \n",
      " |  __iand__(self, value, /)\n",
      " |      Return self&=value.\n",
      " |  \n",
      " |  __init__(self, /, *args, **kwargs)\n",
      " |      Initialize self.  See help(type(self)) for accurate signature.\n",
      " |  \n",
      " |  __ior__(self, value, /)\n",
      " |      Return self|=value.\n",
      " |  \n",
      " |  __isub__(self, value, /)\n",
      " |      Return self-=value.\n",
      " |  \n",
      " |  __iter__(self, /)\n",
      " |      Implement iter(self).\n",
      " |  \n",
      " |  __ixor__(self, value, /)\n",
      " |      Return self^=value.\n",
      " |  \n",
      " |  __le__(self, value, /)\n",
      " |      Return self<=value.\n",
      " |  \n",
      " |  __len__(self, /)\n",
      " |      Return len(self).\n",
      " |  \n",
      " |  __lt__(self, value, /)\n",
      " |      Return self<value.\n",
      " |  \n",
      " |  __ne__(self, value, /)\n",
      " |      Return self!=value.\n",
      " |  \n",
      " |  __or__(self, value, /)\n",
      " |      Return self|value.\n",
      " |  \n",
      " |  __rand__(self, value, /)\n",
      " |      Return value&self.\n",
      " |  \n",
      " |  __reduce__(...)\n",
      " |      Return state information for pickling.\n",
      " |  \n",
      " |  __repr__(self, /)\n",
      " |      Return repr(self).\n",
      " |  \n",
      " |  __ror__(self, value, /)\n",
      " |      Return value|self.\n",
      " |  \n",
      " |  __rsub__(self, value, /)\n",
      " |      Return value-self.\n",
      " |  \n",
      " |  __rxor__(self, value, /)\n",
      " |      Return value^self.\n",
      " |  \n",
      " |  __sizeof__(...)\n",
      " |      S.__sizeof__() -> size of S in memory, in bytes\n",
      " |  \n",
      " |  __sub__(self, value, /)\n",
      " |      Return self-value.\n",
      " |  \n",
      " |  __xor__(self, value, /)\n",
      " |      Return self^value.\n",
      " |  \n",
      " |  add(...)\n",
      " |      Add an element to a set.\n",
      " |      \n",
      " |      This has no effect if the element is already present.\n",
      " |  \n",
      " |  clear(...)\n",
      " |      Remove all elements from this set.\n",
      " |  \n",
      " |  copy(...)\n",
      " |      Return a shallow copy of a set.\n",
      " |  \n",
      " |  difference(...)\n",
      " |      Return the difference of two or more sets as a new set.\n",
      " |      \n",
      " |      (i.e. all elements that are in this set but not the others.)\n",
      " |  \n",
      " |  difference_update(...)\n",
      " |      Remove all elements of another set from this set.\n",
      " |  \n",
      " |  discard(...)\n",
      " |      Remove an element from a set if it is a member.\n",
      " |      \n",
      " |      If the element is not a member, do nothing.\n",
      " |  \n",
      " |  intersection(...)\n",
      " |      Return the intersection of two sets as a new set.\n",
      " |      \n",
      " |      (i.e. all elements that are in both sets.)\n",
      " |  \n",
      " |  intersection_update(...)\n",
      " |      Update a set with the intersection of itself and another.\n",
      " |  \n",
      " |  isdisjoint(...)\n",
      " |      Return True if two sets have a null intersection.\n",
      " |  \n",
      " |  issubset(...)\n",
      " |      Report whether another set contains this set.\n",
      " |  \n",
      " |  issuperset(...)\n",
      " |      Report whether this set contains another set.\n",
      " |  \n",
      " |  pop(...)\n",
      " |      Remove and return an arbitrary set element.\n",
      " |      Raises KeyError if the set is empty.\n",
      " |  \n",
      " |  remove(...)\n",
      " |      Remove an element from a set; it must be a member.\n",
      " |      \n",
      " |      If the element is not a member, raise a KeyError.\n",
      " |  \n",
      " |  symmetric_difference(...)\n",
      " |      Return the symmetric difference of two sets as a new set.\n",
      " |      \n",
      " |      (i.e. all elements that are in exactly one of the sets.)\n",
      " |  \n",
      " |  symmetric_difference_update(...)\n",
      " |      Update a set with the symmetric difference of itself and another.\n",
      " |  \n",
      " |  union(...)\n",
      " |      Return the union of sets as a new set.\n",
      " |      \n",
      " |      (i.e. all elements that are in either set.)\n",
      " |  \n",
      " |  update(...)\n",
      " |      Update a set with the union of itself and others.\n",
      " |  \n",
      " |  ----------------------------------------------------------------------\n",
      " |  Static methods defined here:\n",
      " |  \n",
      " |  __new__(*args, **kwargs) from builtins.type\n",
      " |      Create and return a new object.  See help(type) for accurate signature.\n",
      " |  \n",
      " |  ----------------------------------------------------------------------\n",
      " |  Data and other attributes defined here:\n",
      " |  \n",
      " |  __hash__ = None\n",
      "\n"
     ]
    }
   ],
   "source": [
    "help(s)"
   ]
  },
  {
   "cell_type": "code",
   "execution_count": 123,
   "metadata": {},
   "outputs": [
    {
     "name": "stdout",
     "output_type": "stream",
     "text": [
      "{40, 10, 50, 20, 60, 30}\n",
      "{40, 10, 50, 20, 60, 30}\n"
     ]
    }
   ],
   "source": [
    "#union = x.union(y)  or     x|y\n",
    "x={10,20,30,40} \n",
    "y={30,40,50,60} \n",
    "print(x.union(y))\n",
    "print(x|y) \n",
    "\n"
   ]
  },
  {
   "cell_type": "code",
   "execution_count": 124,
   "metadata": {},
   "outputs": [
    {
     "name": "stdout",
     "output_type": "stream",
     "text": [
      "{40, 30}\n"
     ]
    }
   ],
   "source": [
    "#intersection - x.intersection(y)   or   x&y \n",
    "#Returns common elements present in both x and y \n",
    "x={10,20,30,40} \n",
    "y={30,40,50,60} \n",
    "print(x.intersection(y))\n",
    "\n"
   ]
  },
  {
   "cell_type": "code",
   "execution_count": 125,
   "metadata": {},
   "outputs": [
    {
     "name": "stdout",
     "output_type": "stream",
     "text": [
      "{10, 20}\n",
      "{10, 20}\n",
      "{50, 60}\n"
     ]
    }
   ],
   "source": [
    "#x.difference(y)  or  x-y returns the elements present in x but not in y \n",
    "\n",
    "x={10,20,30,40} \n",
    "y={30,40,50,60} \n",
    "print(x.difference(y))   \n",
    "print(x-y) \n",
    "print(y-x)  "
   ]
  },
  {
   "cell_type": "code",
   "execution_count": 128,
   "metadata": {},
   "outputs": [
    {
     "name": "stdout",
     "output_type": "stream",
     "text": [
      "{'a', 'e', 'h', 'r', 'M'}\n",
      "True\n",
      "False\n"
     ]
    }
   ],
   "source": [
    "#in , not in\n",
    "\n",
    "s1=set(\"Maheer\")\n",
    "print(s1)   \n",
    "print('M' in s1)\n",
    "print('z' in s1)   "
   ]
  },
  {
   "cell_type": "code",
   "execution_count": 129,
   "metadata": {},
   "outputs": [
    {
     "data": {
      "text/plain": [
       "{'2013-07-25 00:00:00.0',\n",
       " '2013-07-26 00:00:00.0',\n",
       " '2013-08-25 00:00:00.0',\n",
       " '2013-08-26 00:00:00.0',\n",
       " '2014-01-25 00:00:00.0'}"
      ]
     },
     "execution_count": 129,
     "metadata": {},
     "output_type": "execute_result"
    }
   ],
   "source": [
    "# Creating new collection retaining duplicates using 2 sets\n",
    "s1 = {'2013-07-25 00:00:00.0', '2013-07-26 00:00:00.0', '2014-01-25 00:00:00.0'}\n",
    "s2 = {'2013-08-25 00:00:00.0', '2013-08-26 00:00:00.0', '2014-01-25 00:00:00.0'}\n",
    "s1.union(s2)"
   ]
  },
  {
   "cell_type": "code",
   "execution_count": 131,
   "metadata": {},
   "outputs": [
    {
     "ename": "TypeError",
     "evalue": "'list' object is not callable",
     "output_type": "error",
     "traceback": [
      "\u001b[1;31m---------------------------------------------------------------------------\u001b[0m",
      "\u001b[1;31mTypeError\u001b[0m                                 Traceback (most recent call last)",
      "\u001b[1;32m<ipython-input-131-e1f871a2ebbf>\u001b[0m in \u001b[0;36m<module>\u001b[1;34m\u001b[0m\n\u001b[1;32m----> 1\u001b[1;33m \u001b[0ms2\u001b[0m \u001b[1;33m=\u001b[0m \u001b[0mlist\u001b[0m\u001b[1;33m(\u001b[0m\u001b[0ms1\u001b[0m\u001b[1;33m)\u001b[0m \u001b[1;33m+\u001b[0m \u001b[0mlist\u001b[0m\u001b[1;33m(\u001b[0m\u001b[0ms2\u001b[0m\u001b[1;33m)\u001b[0m\u001b[1;33m\u001b[0m\u001b[1;33m\u001b[0m\u001b[0m\n\u001b[0m",
      "\u001b[1;31mTypeError\u001b[0m: 'list' object is not callable"
     ]
    }
   ],
   "source": [
    "s2 = list(s1) + list(s2)"
   ]
  },
  {
   "cell_type": "markdown",
   "metadata": {},
   "source": [
    "## Dictionary"
   ]
  },
  {
   "cell_type": "markdown",
   "metadata": {},
   "source": [
    "If we want to represent a group of objects as key-value pairs then we should go for Dictionary. \n",
    " Duplicate keys are not allowed but values can be duplicated. \n",
    " Dictionaries are mutable  \n",
    "Dictionaries are dynamic  \n",
    "indexing and slicing concepts are not applicable "
   ]
  },
  {
   "cell_type": "code",
   "execution_count": null,
   "metadata": {},
   "outputs": [],
   "source": [
    "#create empty dic\n",
    "d={}     \n",
    "or   \n",
    "d=dict() "
   ]
  },
  {
   "cell_type": "code",
   "execution_count": 109,
   "metadata": {},
   "outputs": [
    {
     "name": "stdout",
     "output_type": "stream",
     "text": [
      "{100: 'Shakeer', 200: 'ravi', 300: 'Maheer'}\n"
     ]
    }
   ],
   "source": [
    "#example\n",
    "# d={key:value, key:value} \n",
    "d={}\n",
    "d[100]=\"Shakeer\"  \n",
    "d[200]=\"ravi\"  \n",
    "d[300]=\"Maheer\"  \n",
    "print(d) "
   ]
  },
  {
   "cell_type": "code",
   "execution_count": 133,
   "metadata": {},
   "outputs": [
    {
     "name": "stdout",
     "output_type": "stream",
     "text": [
      "Shakeer\n",
      "Ruzda\n"
     ]
    }
   ],
   "source": [
    "#We can access data by using keys. \n",
    "d={100:'Shakeer' ,200:'Ruzda', 300:'Maheer'} \n",
    "print(d[100])\n",
    "print(d[200])"
   ]
  },
  {
   "cell_type": "code",
   "execution_count": 134,
   "metadata": {},
   "outputs": [
    {
     "name": "stdout",
     "output_type": "stream",
     "text": [
      "{100: 'Shakeer', 200: 'Ruzda', 300: 'Maheer'}\n",
      "{100: 'Shakeer', 200: 'Ruzda', 300: 'Maheer', 400: 'Bangalore'}\n",
      "{100: 'Azure', 200: 'Ruzda', 300: 'Maheer', 400: 'Bangalore'}\n"
     ]
    }
   ],
   "source": [
    "#update-dict\n",
    "#d[key]=value \n",
    "d1={100:\"Shakeer\",200:\"Maheer\",300:\"Ruzda\"}\n",
    "print(d)\n",
    "d[400]=\"Bangalore\"   \n",
    "print(d)   \n",
    "d[100]=\"Azure\"\n",
    "print(d)\n",
    "\n"
   ]
  },
  {
   "cell_type": "code",
   "execution_count": null,
   "metadata": {},
   "outputs": [],
   "source": [
    "#delete\n",
    "\n",
    "d={100:\"Shakeer\",200:\"Basha\",300:\"Hadoop\"}\n",
    "print(d)   \n",
    "del d[100]\n",
    "print(d)   \n",
    "del d[400]   "
   ]
  },
  {
   "cell_type": "code",
   "execution_count": 139,
   "metadata": {},
   "outputs": [
    {
     "name": "stdout",
     "output_type": "stream",
     "text": [
      "{100: 'Hadoop', 200: 'Python', 300: 'Azure'}\n",
      "{}\n"
     ]
    }
   ],
   "source": [
    "#clear\n",
    "d={100:\"Hadoop\",200:\"Python\",300:\"Azure\"}   \n",
    "print(d)\n",
    "d.clear()  \n",
    "print(d)"
   ]
  },
  {
   "cell_type": "code",
   "execution_count": 142,
   "metadata": {},
   "outputs": [
    {
     "name": "stdout",
     "output_type": "stream",
     "text": [
      "Shakeer\n"
     ]
    },
    {
     "ename": "KeyError",
     "evalue": "400",
     "output_type": "error",
     "traceback": [
      "\u001b[1;31m---------------------------------------------------------------------------\u001b[0m",
      "\u001b[1;31mKeyError\u001b[0m                                  Traceback (most recent call last)",
      "\u001b[1;32m<ipython-input-142-1c509d20ed7c>\u001b[0m in \u001b[0;36m<module>\u001b[1;34m\u001b[0m\n\u001b[0;32m      2\u001b[0m \u001b[0md\u001b[0m\u001b[1;33m=\u001b[0m\u001b[1;33m{\u001b[0m\u001b[1;36m10\u001b[0m\u001b[1;33m:\u001b[0m\u001b[1;34m\"Shakeer\"\u001b[0m\u001b[1;33m,\u001b[0m\u001b[1;36m20\u001b[0m\u001b[1;33m:\u001b[0m\u001b[1;34m\"Basha\"\u001b[0m\u001b[1;33m,\u001b[0m\u001b[1;36m30\u001b[0m\u001b[1;33m:\u001b[0m\u001b[1;34m\"Oracle\"\u001b[0m\u001b[1;33m}\u001b[0m\u001b[1;33m\u001b[0m\u001b[1;33m\u001b[0m\u001b[0m\n\u001b[0;32m      3\u001b[0m \u001b[0mprint\u001b[0m\u001b[1;33m(\u001b[0m\u001b[0md\u001b[0m\u001b[1;33m[\u001b[0m\u001b[1;36m10\u001b[0m\u001b[1;33m]\u001b[0m\u001b[1;33m)\u001b[0m\u001b[1;33m\u001b[0m\u001b[1;33m\u001b[0m\u001b[0m\n\u001b[1;32m----> 4\u001b[1;33m \u001b[0mprint\u001b[0m\u001b[1;33m(\u001b[0m\u001b[0md\u001b[0m\u001b[1;33m[\u001b[0m\u001b[1;36m400\u001b[0m\u001b[1;33m]\u001b[0m\u001b[1;33m)\u001b[0m\u001b[1;33m\u001b[0m\u001b[1;33m\u001b[0m\u001b[0m\n\u001b[0m\u001b[0;32m      5\u001b[0m \u001b[0mprint\u001b[0m\u001b[1;33m(\u001b[0m\u001b[0md\u001b[0m\u001b[1;33m.\u001b[0m\u001b[0mget\u001b[0m\u001b[1;33m(\u001b[0m\u001b[1;36m10\u001b[0m\u001b[1;33m)\u001b[0m\u001b[1;33m)\u001b[0m\u001b[1;33m\u001b[0m\u001b[1;33m\u001b[0m\u001b[0m\n\u001b[0;32m      6\u001b[0m \u001b[0mprint\u001b[0m\u001b[1;33m(\u001b[0m\u001b[0md\u001b[0m\u001b[1;33m.\u001b[0m\u001b[0mget\u001b[0m\u001b[1;33m(\u001b[0m\u001b[1;36m30\u001b[0m\u001b[1;33m)\u001b[0m\u001b[1;33m)\u001b[0m\u001b[1;33m\u001b[0m\u001b[1;33m\u001b[0m\u001b[0m\n",
      "\u001b[1;31mKeyError\u001b[0m: 400"
     ]
    }
   ],
   "source": [
    "#get: we can get associated value of the key\n",
    "d={10:\"Shakeer\",20:\"Basha\",30:\"Oracle\"} \n",
    "print(d[10]) \n",
    "print(d[400])\n",
    "print(d.get(10)) \n",
    "print(d.get(30)) \n",
    "print(d.get(10,\"Shakeer\")) \n",
    "print(d.get(20,\"Basha\"))"
   ]
  },
  {
   "cell_type": "code",
   "execution_count": 143,
   "metadata": {},
   "outputs": [
    {
     "name": "stdout",
     "output_type": "stream",
     "text": [
      "{10: 'Maheer', 200: 'Ruzda', 300: 'shaik'}\n",
      "(300, 'shaik')\n",
      "{10: 'Maheer', 200: 'Ruzda'}\n"
     ]
    }
   ],
   "source": [
    " #popitem()-It removes an arbitrary item(key-value) from the dictionaty and returns it.\n",
    "d={10:\"Maheer\",200:\"Ruzda\",300:\"shaik\"}   \n",
    "print(d)   \n",
    "print(d.popitem())   \n",
    "print(d) "
   ]
  },
  {
   "cell_type": "code",
   "execution_count": 147,
   "metadata": {},
   "outputs": [
    {
     "name": "stdout",
     "output_type": "stream",
     "text": [
      "dict_keys([100, 200, 300])\n",
      "100\n",
      "200\n",
      "300\n"
     ]
    }
   ],
   "source": [
    "#print keys from dict\n",
    "d={100:\"Azure\",200:\"Hadoop\",300:\"GCP\"}   \n",
    "print(d.keys())   \n",
    "for k in d.keys():   \n",
    "    print(k) "
   ]
  },
  {
   "cell_type": "code",
   "execution_count": 148,
   "metadata": {},
   "outputs": [
    {
     "name": "stdout",
     "output_type": "stream",
     "text": [
      "dict_values(['Azure', 'Hadoop', 'GCP'])\n",
      "Azure\n",
      "Hadoop\n",
      "GCP\n"
     ]
    }
   ],
   "source": [
    "#print values\n",
    "d={100:\"Azure\",200:\"Hadoop\",300:\"GCP\"}   \n",
    "print(d.values())   \n",
    "for k in d.values():   \n",
    "    print(k) "
   ]
  },
  {
   "cell_type": "code",
   "execution_count": 151,
   "metadata": {},
   "outputs": [
    {
     "name": "stdout",
     "output_type": "stream",
     "text": [
      "100 <--> Hadoop\n",
      "200 <--> Data\n",
      "300 <--> Engineering\n"
     ]
    }
   ],
   "source": [
    "#items : represents list of key value pairs\n",
    "d={100:\"Hadoop\",200:\"Data\",300:\"Engineering\"}   \n",
    "for k,v in d.items():  \n",
    "    print(k,\"<-->\",v)"
   ]
  },
  {
   "cell_type": "code",
   "execution_count": 110,
   "metadata": {},
   "outputs": [],
   "source": [
    "d.get?"
   ]
  },
  {
   "cell_type": "code",
   "execution_count": 154,
   "metadata": {},
   "outputs": [],
   "source": [
    "d = {'id': 1, 'first_name': 'shakeer', 'last_name': 'Basha', 'amount': 1000.0}\n",
    "d.setdefault('amount')\n",
    "d.setdefault('commission_pct')"
   ]
  },
  {
   "cell_type": "code",
   "execution_count": 155,
   "metadata": {},
   "outputs": [
    {
     "data": {
      "text/plain": [
       "{'id': 1,\n",
       " 'first_name': 'shakeer',\n",
       " 'last_name': 'Basha',\n",
       " 'amount': 1000.0,\n",
       " 'commission_pct': None}"
      ]
     },
     "execution_count": 155,
     "metadata": {},
     "output_type": "execute_result"
    }
   ],
   "source": [
    "d"
   ]
  },
  {
   "cell_type": "code",
   "execution_count": 156,
   "metadata": {},
   "outputs": [
    {
     "name": "stdout",
     "output_type": "stream",
     "text": [
      "{'id': 1, 'first_name': 'shakeer', 'last_name': 'Basha', 'amount': 1000.0, 'commission_pct': None}\n"
     ]
    }
   ],
   "source": [
    "d.setdefault('commission_pct', 0)\n",
    "d.setdefault('commission_pct', 100)\n",
    "print(d)"
   ]
  },
  {
   "cell_type": "code",
   "execution_count": 111,
   "metadata": {},
   "outputs": [],
   "source": [
    "#Update:\n",
    "#example:\n",
    "d = {'id': 10}\n",
    "d.update({'first_name': 'Donald', 'last_name': 'Duck'})\n",
    "d.update([('amount', 1000.0), ('commission_pct', 10)])"
   ]
  },
  {
   "cell_type": "code",
   "execution_count": 112,
   "metadata": {},
   "outputs": [
    {
     "data": {
      "text/plain": [
       "{'id': 10,\n",
       " 'first_name': 'Donald',\n",
       " 'last_name': 'Duck',\n",
       " 'amount': 1000.0,\n",
       " 'commission_pct': 10}"
      ]
     },
     "execution_count": 112,
     "metadata": {},
     "output_type": "execute_result"
    }
   ],
   "source": [
    "d"
   ]
  },
  {
   "cell_type": "code",
   "execution_count": 159,
   "metadata": {},
   "outputs": [],
   "source": [
    "d.update([('amount', 1500.0), ('commission_pct', 5), ('phone_numbers', 1234567890)])"
   ]
  },
  {
   "cell_type": "code",
   "execution_count": 164,
   "metadata": {},
   "outputs": [],
   "source": [
    "d.update([('phone_numbers', [1234567890, 2345679180])])"
   ]
  },
  {
   "cell_type": "code",
   "execution_count": 160,
   "metadata": {},
   "outputs": [
    {
     "data": {
      "text/plain": [
       "{'id': 10,\n",
       " 'first_name': 'Donald',\n",
       " 'last_name': 'Duck',\n",
       " 'amount': 1500.0,\n",
       " 'commission_pct': 5,\n",
       " 'phone_numbers': 1234567890}"
      ]
     },
     "execution_count": 160,
     "metadata": {},
     "output_type": "execute_result"
    }
   ],
   "source": [
    "d"
   ]
  },
  {
   "cell_type": "code",
   "execution_count": 162,
   "metadata": {},
   "outputs": [
    {
     "name": "stdout",
     "output_type": "stream",
     "text": [
      "{'id': 1, 'first_name': 'Scott', 'last_name': 'Tiger', 'amount': 1000.0, 'commission_pct': 10, 'phone_numbers': 1234567890}\n"
     ]
    }
   ],
   "source": [
    "#Adding\n",
    "\n",
    "d = {'id': 1, 'first_name': 'Scott', 'last_name': 'Tiger', 'amount': 1000.0}\n",
    "d['commission_pct'] = 10 # Adding Element\n",
    "d['phone_numbers'] = 1234567890\n",
    "print(d)"
   ]
  },
  {
   "cell_type": "code",
   "execution_count": 163,
   "metadata": {},
   "outputs": [
    {
     "name": "stdout",
     "output_type": "stream",
     "text": [
      "type of attribute name id is <class 'str'>\n",
      "type of attribute name first_name is <class 'str'>\n",
      "type of attribute name last_name is <class 'str'>\n",
      "type of attribute name amount is <class 'str'>\n"
     ]
    }
   ],
   "source": [
    "# All attribute names are of type str and values are of type int, str or float\n",
    "d = {'id': 1, 'first_name': 'Scott', 'last_name': 'Tiger', 'amount': 1000.0}\n",
    "for key in d.keys():\n",
    "    print(f'type of attribute name {key} is {type(key)}')"
   ]
  },
  {
   "cell_type": "code",
   "execution_count": 165,
   "metadata": {},
   "outputs": [],
   "source": [
    "#examples\n",
    "d = {'id': 1, 'first_name': 'Scott', 'last_name': 'Tiger', 'amount': 1000.0}\n",
    "d['address'] = {'street': '1234 ABC Towers', 'city': 'Round Rock', 'state': 'Texas', 'zip': 78664}\n"
   ]
  },
  {
   "cell_type": "code",
   "execution_count": 166,
   "metadata": {},
   "outputs": [
    {
     "data": {
      "text/plain": [
       "{'id': 1,\n",
       " 'first_name': 'Scott',\n",
       " 'last_name': 'Tiger',\n",
       " 'amount': 1000.0,\n",
       " 'address': {'street': '1234 ABC Towers',\n",
       "  'city': 'Round Rock',\n",
       "  'state': 'Texas',\n",
       "  'zip': 78664}}"
      ]
     },
     "execution_count": 166,
     "metadata": {},
     "output_type": "execute_result"
    }
   ],
   "source": [
    "d"
   ]
  },
  {
   "cell_type": "code",
   "execution_count": 168,
   "metadata": {},
   "outputs": [
    {
     "data": {
      "text/plain": [
       "dict"
      ]
     },
     "execution_count": 168,
     "metadata": {},
     "output_type": "execute_result"
    }
   ],
   "source": [
    "d['address']\n",
    "type(d['address'])"
   ]
  },
  {
   "cell_type": "code",
   "execution_count": null,
   "metadata": {},
   "outputs": [],
   "source": [
    "#List of dicts\n",
    "When we read data from a file into a list, typically each element in the list will be of type binary or string.\n",
    "\n",
    "We can convert the element into dict to simplify the processing.\n",
    "\n",
    "Once each element is converted to dict, we can access elements in the dict using attribute name.\n",
    "\n",
    "Let us see an example to read the data from a file into list of dicts and access dates."
   ]
  },
  {
   "cell_type": "code",
   "execution_count": 115,
   "metadata": {},
   "outputs": [
    {
     "data": {
      "text/plain": [
       "['7788,SCOTT,ANALYST,7566,1982-12-09,3000,0,20',\n",
       " '7876,ADAMS,CLERK,7788,1983-01-12,1100,0,20',\n",
       " '7902,FORD,ANALYST,7566,1981-12-03,3000,0,20',\n",
       " '7369,SMITH,CLERK,7902,1980-12-17,800,0,20',\n",
       " '7698,BLAKE,MANAGER,7839,1981-05-01,2850,5,30',\n",
       " '7499,ALLEN,SALESMAN,7698,1981-02-20,1600,300,30',\n",
       " '7521,WARD,SALESMAN,7698,1981-02-22,1250,500,30',\n",
       " '7654,MARTIN,SALESMAN,7698,1981-09-28,1250,1400,30']"
      ]
     },
     "execution_count": 115,
     "metadata": {},
     "output_type": "execute_result"
    }
   ],
   "source": [
    "path = 'C:\\\\Users\\\\shakeer\\\\Desktop\\\\emp10.txt'\n",
    "emp_file = open(path)\n",
    "emp_raw = emp_file.read()\n",
    "data = emp_raw.splitlines()\n",
    "data[2:10]"
   ]
  },
  {
   "cell_type": "code",
   "execution_count": 187,
   "metadata": {},
   "outputs": [
    {
     "data": {
      "text/plain": [
       "14"
      ]
     },
     "execution_count": 187,
     "metadata": {},
     "output_type": "execute_result"
    }
   ],
   "source": [
    "len(data)"
   ]
  },
  {
   "cell_type": "code",
   "execution_count": 116,
   "metadata": {},
   "outputs": [],
   "source": [
    "def get_emp_dict(data):\n",
    "    emp_details = data.split(',')\n",
    "    emp_dict = {\n",
    "        'empno': emp_details[0],\n",
    "        'ename': emp_details[1],\n",
    "        'job': emp_details[2],\n",
    "        'manager': emp_details[3]\n",
    "    }\n",
    "    return emp_dict"
   ]
  },
  {
   "cell_type": "code",
   "execution_count": 117,
   "metadata": {},
   "outputs": [
    {
     "data": {
      "text/plain": [
       "{'empno': '7566', 'ename': 'JONES', 'job': 'MANAGER', 'manager': '7839'}"
      ]
     },
     "execution_count": 117,
     "metadata": {},
     "output_type": "execute_result"
    }
   ],
   "source": [
    "get_emp_dict(data[1])"
   ]
  },
  {
   "cell_type": "code",
   "execution_count": 190,
   "metadata": {},
   "outputs": [],
   "source": [
    "#convert to int while reading\n",
    "def get_emp_dict2(data):\n",
    "    emp_details = data.split(',')\n",
    "    emp_dict = {\n",
    "        'empno': int(emp_details[0]),\n",
    "        'ename': emp_details[1],\n",
    "        'job': emp_details[2],\n",
    "        'manager': emp_details[3]\n",
    "    }\n",
    "    return emp_dict"
   ]
  },
  {
   "cell_type": "code",
   "execution_count": 191,
   "metadata": {},
   "outputs": [
    {
     "data": {
      "text/plain": [
       "{'empno': 7566, 'ename': 'JONES', 'job': 'MANAGER', 'manager': '7839'}"
      ]
     },
     "execution_count": 191,
     "metadata": {},
     "output_type": "execute_result"
    }
   ],
   "source": [
    "get_emp_dict2(data[1])"
   ]
  },
  {
   "cell_type": "code",
   "execution_count": 192,
   "metadata": {},
   "outputs": [
    {
     "data": {
      "text/plain": [
       "['7839,KING,PRESIDENT,,1981-11-17,5000,0,10',\n",
       " '7566,JONES,MANAGER,7839,1981-04-02,2975,0,20',\n",
       " '7788,SCOTT,ANALYST,7566,1982-12-09,3000,0,20']"
      ]
     },
     "execution_count": 192,
     "metadata": {},
     "output_type": "execute_result"
    }
   ],
   "source": [
    "data[:3]"
   ]
  },
  {
   "cell_type": "code",
   "execution_count": 194,
   "metadata": {},
   "outputs": [],
   "source": [
    "emp_dicts = [get_emp_dict2(i) for i in data]"
   ]
  },
  {
   "cell_type": "code",
   "execution_count": 195,
   "metadata": {},
   "outputs": [
    {
     "data": {
      "text/plain": [
       "{'empno': 7839, 'ename': 'KING', 'job': 'PRESIDENT', 'manager': ''}"
      ]
     },
     "execution_count": 195,
     "metadata": {},
     "output_type": "execute_result"
    }
   ],
   "source": [
    "emp_dicts[0]"
   ]
  },
  {
   "cell_type": "code",
   "execution_count": 196,
   "metadata": {},
   "outputs": [
    {
     "data": {
      "text/plain": [
       "[{'empno': 7839, 'ename': 'KING', 'job': 'PRESIDENT', 'manager': ''},\n",
       " {'empno': 7566, 'ename': 'JONES', 'job': 'MANAGER', 'manager': '7839'},\n",
       " {'empno': 7788, 'ename': 'SCOTT', 'job': 'ANALYST', 'manager': '7566'}]"
      ]
     },
     "execution_count": 196,
     "metadata": {},
     "output_type": "execute_result"
    }
   ],
   "source": [
    "emp_dicts[:3]"
   ]
  },
  {
   "cell_type": "markdown",
   "metadata": {},
   "source": [
    "# collection loops"
   ]
  },
  {
   "cell_type": "code",
   "execution_count": 198,
   "metadata": {},
   "outputs": [],
   "source": [
    "path = 'C:\\\\Users\\\\shakeer\\\\Desktop\\\\emp10.txt'\n",
    "emp_file = open(path)\n",
    "emp_raw = emp_file.read()\n",
    "data = emp_raw.splitlines()"
   ]
  },
  {
   "cell_type": "code",
   "execution_count": 205,
   "metadata": {},
   "outputs": [],
   "source": [
    "data='7839,KING,PRESIDENT,,1981-11-17,5000,0,10'"
   ]
  },
  {
   "cell_type": "code",
   "execution_count": 209,
   "metadata": {},
   "outputs": [],
   "source": [
    "def get_emp_salary(data, empno):\n",
    "    filtered = []\n",
    "    for i in data:\n",
    "        if int(data.split(',')[0]) == empno:\n",
    "            filtered.append(i)\n",
    "    return filtered"
   ]
  },
  {
   "cell_type": "code",
   "execution_count": 207,
   "metadata": {},
   "outputs": [
    {
     "data": {
      "text/plain": [
       "['7',\n",
       " '8',\n",
       " '3',\n",
       " '9',\n",
       " ',',\n",
       " 'K',\n",
       " 'I',\n",
       " 'N',\n",
       " 'G',\n",
       " ',',\n",
       " 'P',\n",
       " 'R',\n",
       " 'E',\n",
       " 'S',\n",
       " 'I',\n",
       " 'D',\n",
       " 'E',\n",
       " 'N',\n",
       " 'T',\n",
       " ',',\n",
       " ',',\n",
       " '1',\n",
       " '9',\n",
       " '8',\n",
       " '1',\n",
       " '-',\n",
       " '1',\n",
       " '1',\n",
       " '-',\n",
       " '1',\n",
       " '7',\n",
       " ',',\n",
       " '5',\n",
       " '0',\n",
       " '0',\n",
       " '0',\n",
       " ',',\n",
       " '0',\n",
       " ',',\n",
       " '1',\n",
       " '0']"
      ]
     },
     "execution_count": 207,
     "metadata": {},
     "output_type": "execute_result"
    }
   ],
   "source": [
    "get_emp_salary(data, 7839)"
   ]
  },
  {
   "cell_type": "code",
   "execution_count": 219,
   "metadata": {},
   "outputs": [],
   "source": [
    "import datetime as dt\n",
    "d = dt.datetime.strptime(data.split(',')[4], '%Y-%m-%d')\n"
   ]
  },
  {
   "cell_type": "code",
   "execution_count": 220,
   "metadata": {},
   "outputs": [
    {
     "data": {
      "text/plain": [
       "True"
      ]
     },
     "execution_count": 220,
     "metadata": {},
     "output_type": "execute_result"
    }
   ],
   "source": [
    "d.year == 1981 and d.month ==11"
   ]
  },
  {
   "cell_type": "code",
   "execution_count": 216,
   "metadata": {},
   "outputs": [
    {
     "name": "stdout",
     "output_type": "stream",
     "text": [
      "1981-11-17\n"
     ]
    }
   ],
   "source": [
    "print(data.split(',')[4])"
   ]
  },
  {
   "cell_type": "code",
   "execution_count": 224,
   "metadata": {},
   "outputs": [
    {
     "data": {
      "text/plain": [
       "['1', '2013-07-25 00:00:00.0', '11599', 'CLOSED']"
      ]
     },
     "execution_count": 224,
     "metadata": {},
     "output_type": "execute_result"
    }
   ],
   "source": [
    "#Dictionary examples\n",
    "\n",
    "data = '1,2013-07-25 00:00:00.0,11599,CLOSED'\n",
    "data.split(',')"
   ]
  },
  {
   "cell_type": "code",
   "execution_count": 225,
   "metadata": {},
   "outputs": [
    {
     "data": {
      "text/plain": [
       "'2013-07-25 00:00:00.0'"
      ]
     },
     "execution_count": 225,
     "metadata": {},
     "output_type": "execute_result"
    }
   ],
   "source": [
    "data.split(',')[1]"
   ]
  },
  {
   "cell_type": "code",
   "execution_count": 226,
   "metadata": {},
   "outputs": [
    {
     "data": {
      "text/plain": [
       "'2013-07'"
      ]
     },
     "execution_count": 226,
     "metadata": {},
     "output_type": "execute_result"
    }
   ],
   "source": [
    "data.split(',')[1][:7]"
   ]
  },
  {
   "cell_type": "code",
   "execution_count": 227,
   "metadata": {},
   "outputs": [
    {
     "data": {
      "text/plain": [
       "'201307'"
      ]
     },
     "execution_count": 227,
     "metadata": {},
     "output_type": "execute_result"
    }
   ],
   "source": [
    "data.split(',')[1][:7].replace('-', '')"
   ]
  },
  {
   "cell_type": "code",
   "execution_count": 228,
   "metadata": {},
   "outputs": [
    {
     "data": {
      "text/plain": [
       "201307"
      ]
     },
     "execution_count": 228,
     "metadata": {},
     "output_type": "execute_result"
    }
   ],
   "source": [
    "int(data.split(',')[1][:7].replace('-', ''))"
   ]
  },
  {
   "cell_type": "code",
   "execution_count": 235,
   "metadata": {},
   "outputs": [],
   "source": [
    "#example\n",
    "def get_count_by_job(job):\n",
    "    emp_count = {} # dict\n",
    "    for i in job:\n",
    "        status = i.split(',')[2]\n",
    "        if status in emp_count:\n",
    "            emp_count[status] += 1\n",
    "        else: \n",
    "            emp_count[status] = 1\n",
    "    return emp_count"
   ]
  },
  {
   "cell_type": "code",
   "execution_count": 234,
   "metadata": {},
   "outputs": [
    {
     "ename": "IndexError",
     "evalue": "list index out of range",
     "output_type": "error",
     "traceback": [
      "\u001b[1;31m---------------------------------------------------------------------------\u001b[0m",
      "\u001b[1;31mIndexError\u001b[0m                                Traceback (most recent call last)",
      "\u001b[1;32m<ipython-input-234-c760371e4e82>\u001b[0m in \u001b[0;36m<module>\u001b[1;34m\u001b[0m\n\u001b[1;32m----> 1\u001b[1;33m \u001b[0mget_count_by_job\u001b[0m\u001b[1;33m(\u001b[0m\u001b[0mdata\u001b[0m\u001b[1;33m)\u001b[0m\u001b[1;33m\u001b[0m\u001b[1;33m\u001b[0m\u001b[0m\n\u001b[0m",
      "\u001b[1;32m<ipython-input-233-661b58b921e6>\u001b[0m in \u001b[0;36mget_count_by_job\u001b[1;34m(job)\u001b[0m\n\u001b[0;32m      3\u001b[0m     \u001b[0memp_count\u001b[0m \u001b[1;33m=\u001b[0m \u001b[1;33m{\u001b[0m\u001b[1;33m}\u001b[0m \u001b[1;31m# dict\u001b[0m\u001b[1;33m\u001b[0m\u001b[1;33m\u001b[0m\u001b[0m\n\u001b[0;32m      4\u001b[0m     \u001b[1;32mfor\u001b[0m \u001b[0mi\u001b[0m \u001b[1;32min\u001b[0m \u001b[0mjob\u001b[0m\u001b[1;33m:\u001b[0m\u001b[1;33m\u001b[0m\u001b[1;33m\u001b[0m\u001b[0m\n\u001b[1;32m----> 5\u001b[1;33m         \u001b[0mstatus\u001b[0m \u001b[1;33m=\u001b[0m \u001b[0mi\u001b[0m\u001b[1;33m.\u001b[0m\u001b[0msplit\u001b[0m\u001b[1;33m(\u001b[0m\u001b[1;34m','\u001b[0m\u001b[1;33m)\u001b[0m\u001b[1;33m[\u001b[0m\u001b[1;36m2\u001b[0m\u001b[1;33m]\u001b[0m\u001b[1;33m\u001b[0m\u001b[1;33m\u001b[0m\u001b[0m\n\u001b[0m\u001b[0;32m      6\u001b[0m         \u001b[1;32mif\u001b[0m \u001b[0mstatus\u001b[0m \u001b[1;32min\u001b[0m \u001b[0morder_count\u001b[0m\u001b[1;33m:\u001b[0m\u001b[1;33m\u001b[0m\u001b[1;33m\u001b[0m\u001b[0m\n\u001b[0;32m      7\u001b[0m             \u001b[1;31m# if order_count contains key,\u001b[0m\u001b[1;33m\u001b[0m\u001b[1;33m\u001b[0m\u001b[1;33m\u001b[0m\u001b[0m\n",
      "\u001b[1;31mIndexError\u001b[0m: list index out of range"
     ]
    }
   ],
   "source": [
    "get_count_by_job(data)"
   ]
  },
  {
   "cell_type": "markdown",
   "metadata": {},
   "source": [
    "## Strings\n"
   ]
  },
  {
   "cell_type": "code",
   "execution_count": null,
   "metadata": {},
   "outputs": [],
   "source": [
    "The most commonly used object in any project and in any programming,  language is String only.\n",
    "Hence we should aware complete information about String data type. \n",
    "Any sequence of characters within either single quotes or double quotes is considered as a String. \n",
    "Example:\n",
    "s='SHaik' \n",
    "s=\"Shakeer\" \n"
   ]
  },
  {
   "cell_type": "code",
   "execution_count": 254,
   "metadata": {},
   "outputs": [
    {
     "name": "stdout",
     "output_type": "stream",
     "text": [
      "Bigdata\n",
      "scala\n",
      "bangalore\n",
      "Hundai\n",
      "I love working on Hadoop technology\n",
      "and Spark and Python\n"
     ]
    }
   ],
   "source": [
    "name='Bigdata'\n",
    "print(name)\n",
    "lang=\"scala\"\n",
    "print(lang)\n",
    "city='''bangalore'''\n",
    "print(city)\n",
    "car=\"\"\"Hundai\"\"\"\n",
    "print(car)\n",
    "desc=\"\"\"I love working on Hadoop technology\n",
    "and Spark and Python\"\"\"\n",
    "print(desc)\n"
   ]
  },
  {
   "cell_type": "code",
   "execution_count": 255,
   "metadata": {},
   "outputs": [
    {
     "name": "stdout",
     "output_type": "stream",
     "text": [
      "BidataTrends\n",
      "<class 'str'>\n",
      "1850299697456\n",
      "B\n",
      "i\n",
      "d\n",
      "a\n",
      "t\n",
      "a\n",
      "s\n",
      "d\n",
      "n\n",
      "e\n",
      "r\n"
     ]
    }
   ],
   "source": [
    "name=\"BidataTrends\"\n",
    "print(name)\n",
    "print(type(name))\n",
    "print(id(name))\n",
    "\n",
    "#forwardindex\n",
    "print(name[0])\n",
    "print(name[1])\n",
    "print(name[2])\n",
    "print(name[3])\n",
    "print(name[4])\n",
    "print(name[5])\n",
    "#negetive index\n",
    "print(name[-1])\n",
    "print(name[-2])\n",
    "print(name[-3])\n",
    "print(name[-4])\n",
    "print(name[-5])\n"
   ]
  },
  {
   "cell_type": "code",
   "execution_count": 256,
   "metadata": {},
   "outputs": [
    {
     "name": "stdout",
     "output_type": "stream",
     "text": [
      "True\n"
     ]
    }
   ],
   "source": [
    "s = 'Hadoop'\n",
    "print('d' in s)\n"
   ]
  },
  {
   "cell_type": "code",
   "execution_count": 257,
   "metadata": {},
   "outputs": [
    {
     "name": "stdout",
     "output_type": "stream",
     "text": [
      "SHAKEER\n",
      "ASHA\n",
      "EER\n"
     ]
    }
   ],
   "source": [
    "#Slice\n",
    "\n",
    "a=\"SHAKEERBASHA\"\n",
    "print(a[0:7])\n",
    "print(a[8:12])\n",
    "print(a[-8:-5])\n",
    "\n"
   ]
  },
  {
   "cell_type": "code",
   "execution_count": 258,
   "metadata": {},
   "outputs": [
    {
     "name": "stdout",
     "output_type": "stream",
     "text": [
      "Hadoop Developer\n"
     ]
    }
   ],
   "source": [
    "#Strings can be concated using + operator\n",
    "c=\"Hadoop\"\n",
    "w=\"Developer\"\n",
    "print(c+' '+w)\n",
    "\n"
   ]
  },
  {
   "cell_type": "code",
   "execution_count": 259,
   "metadata": {},
   "outputs": [
    {
     "name": "stdout",
     "output_type": "stream",
     "text": [
      "ssrssr\n",
      "String\n",
      "1850259736688\n",
      "StringDD\n",
      "1850298810224\n"
     ]
    }
   ],
   "source": [
    "#String multiplication\n",
    "a='ssr'\n",
    "print(a*2)\n",
    "#String is immutable object we cannot replace or alter existing string object\n",
    "s=\"String\"\n",
    "print(s)\n",
    "print(id(s))\n",
    "c=s+\"DD\"\n",
    "print(c)\n",
    "print(id(c))\n"
   ]
  },
  {
   "cell_type": "code",
   "execution_count": 260,
   "metadata": {},
   "outputs": [
    {
     "data": {
      "text/plain": [
       "'Hadoop'"
      ]
     },
     "execution_count": 260,
     "metadata": {},
     "output_type": "execute_result"
    }
   ],
   "source": [
    "#String functions\n",
    "#Capitalize(): It wiill convert first leeter into uppper\n",
    "s=\"hadoop\"\n",
    "s.capitalize()\n",
    "\n"
   ]
  },
  {
   "cell_type": "code",
   "execution_count": 261,
   "metadata": {},
   "outputs": [
    {
     "data": {
      "text/plain": [
       "['Hadoop', 'Developer', 'Google']"
      ]
     },
     "execution_count": 261,
     "metadata": {},
     "output_type": "execute_result"
    }
   ],
   "source": [
    "a=\"python hadoop\"\n",
    "a.title()\n",
    "\n",
    "#IsLower\n",
    "#IsUpper\n",
    "#lower\n",
    "#upper\n",
    "#len() = it will count no of chanracters in string\n",
    "#Count =  counts the noof occarances\n",
    "#find= This will find the index position of specific character\n",
    "#example:\n",
    "str1=\"Spark Developer\"\n",
    "str1.find('D')\n",
    "#example:\n",
    "str1=\"Spark Developer\"\n",
    "str1.find('D')\n",
    "\n",
    "#split= It will split the string into multiple strings\n",
    "a=\"Spark Developer\"\n",
    "a.split()\n",
    "\n",
    "b=\"Hadoop.Developer.Google\"\n",
    "b.split(\".\")\n",
    "\n"
   ]
  },
  {
   "cell_type": "code",
   "execution_count": null,
   "metadata": {},
   "outputs": [],
   "source": [
    "#Removing spaces from the string: \n",
    "We can use the following 3 methods \n",
    " \n",
    "1. rstrip()===>To remove spaces at right hand side \n",
    "2. lstrip()===>To remove spaces at left hand side \n",
    "3. strip() ==>To remove spaces both sides\n"
   ]
  },
  {
   "cell_type": "code",
   "execution_count": 262,
   "metadata": {},
   "outputs": [
    {
     "name": "stdout",
     "output_type": "stream",
     "text": [
      "Enter your State Name:Hyderabad\n",
      "Capital of Telangana\n"
     ]
    }
   ],
   "source": [
    "city=input(\"Enter your State Name:\")\n",
    "scity=city.strip()\n",
    "if scity=='Hyderabad':\n",
    "    print(\"Capital of Telangana\")\n",
    "elif scity=='Chennai':\n",
    "    print(\"Capital of Tamil\")\n",
    "elif scity==\"Bangalore\":\n",
    "    print(\"Capital of Karnataka\")\n",
    "else:\n",
    "    print(\"your entered city is invalid\")\n"
   ]
  },
  {
   "cell_type": "code",
   "execution_count": 263,
   "metadata": {},
   "outputs": [
    {
     "name": "stdout",
     "output_type": "stream",
     "text": [
      "9\n",
      "-1\n",
      "3\n",
      "21\n"
     ]
    }
   ],
   "source": [
    "#find():\n",
    "\n",
    "'''Returns index of first occurrence of the given substring. \n",
    "If it is not available then we will get -1 '''\n",
    " \n",
    "s=\"Learning Python is very easy\"\n",
    "s=\"Learning Python is very easy\"  \n",
    "print(s.find(\"Python\"))   \n",
    "print(s.find(\"Java\"))   \n",
    "print(s.find(\"r\"))\n",
    "print(s.rfind(\"r\"))\n",
    "\n"
   ]
  },
  {
   "cell_type": "code",
   "execution_count": 264,
   "metadata": {},
   "outputs": [
    {
     "name": "stdout",
     "output_type": "stream",
     "text": [
      "4\n",
      "-1\n",
      "-1\n"
     ]
    }
   ],
   "source": [
    "#example2:\n",
    "#s.find(substring,begin,end) \n",
    "s=\"bigdatatrends\"   \n",
    "print(s.find('a'))     \n",
    "print(s.find('a',7,15))    \n",
    "print(s.find('g',7,15))\n"
   ]
  },
  {
   "cell_type": "code",
   "execution_count": 265,
   "metadata": {},
   "outputs": [
    {
     "name": "stdout",
     "output_type": "stream",
     "text": [
      "6\n",
      "4\n",
      "2\n"
     ]
    }
   ],
   "source": [
    "#example:3\n",
    "s=\"abcabcabcabcadda\"\n",
    "print(s.count('a'))\n",
    "print(s.count('ab'))\n",
    "print(s.count('a',3,7)) \n"
   ]
  },
  {
   "cell_type": "code",
   "execution_count": null,
   "metadata": {},
   "outputs": [],
   "source": [
    "#replace:\n",
    "\n",
    "Replace:\n",
    "\n",
    "Syntax:\n",
    "s.replace(oldstring,newstring) \n",
    " \n",
    "inside s, every occurrence of old string will be replaced with new string.\n",
    "\n"
   ]
  },
  {
   "cell_type": "code",
   "execution_count": 266,
   "metadata": {},
   "outputs": [
    {
     "name": "stdout",
     "output_type": "stream",
     "text": [
      "Learning Python is very easy\n"
     ]
    }
   ],
   "source": [
    "#example:\n",
    "\n",
    "s=\"Learning Python is very difficult\" \n",
    "s1=s.replace(\"difficult\",\"easy\") \n",
    "print(s1) \n",
    "\n"
   ]
  },
  {
   "cell_type": "code",
   "execution_count": null,
   "metadata": {},
   "outputs": [],
   "source": [
    "#Joining of Strings: \n",
    "#We can join a group of strings(list or tuple) wrt the given seperator. \n",
    "s=seperator.join(group of strings) "
   ]
  },
  {
   "cell_type": "code",
   "execution_count": 267,
   "metadata": {},
   "outputs": [
    {
     "name": "stdout",
     "output_type": "stream",
     "text": [
      "abc-sdrf-gfgf\n"
     ]
    }
   ],
   "source": [
    "#example1:\n",
    "t=('abc','sdrf','gfgf') \n",
    "s='-'.join(t) \n",
    "print(s) \n",
    " \n"
   ]
  },
  {
   "cell_type": "code",
   "execution_count": 268,
   "metadata": {},
   "outputs": [
    {
     "name": "stdout",
     "output_type": "stream",
     "text": [
      "hyderabad:singapore:london:dubai\n"
     ]
    }
   ],
   "source": [
    "#example2:\n",
    "lst=['hyderabad','singapore','london','dubai']\n",
    "s=':'.join(lst)\n",
    "print(s) \n",
    "\n"
   ]
  },
  {
   "cell_type": "code",
   "execution_count": null,
   "metadata": {},
   "outputs": [],
   "source": [
    "1. s.startswith(substring) \n",
    "2. s.endswith(substring\n"
   ]
  },
  {
   "cell_type": "code",
   "execution_count": 269,
   "metadata": {},
   "outputs": [
    {
     "name": "stdout",
     "output_type": "stream",
     "text": [
      "True\n",
      "False\n",
      "True\n"
     ]
    }
   ],
   "source": [
    "s='learning Python is very easy' \n",
    "print(s.startswith('learning')) \n",
    "print(s.endswith('learning')) \n",
    "print(s.endswith('easy'))\n"
   ]
  },
  {
   "cell_type": "code",
   "execution_count": null,
   "metadata": {},
   "outputs": [],
   "source": [
    "isalnum(): Returns True if all characters are alphanumeric( a to z , A to Z ,0 to9 )  \n",
    "isalpha(): Returns True if all characters are only alphabet symbols(a to z,A to Z)  \n",
    "isdigit(): Returns True if all characters are digits only( 0 to 9) \n",
    "islower(): Returns True if all characters are lower case alphabet symbols \n",
    "isupper(): Returns True if all characters are upper case aplhabet symbols \n",
    "istitle(): Returns True if string is in title case \n",
    "isspace(): Returns True if string contains only spaces "
   ]
  },
  {
   "cell_type": "code",
   "execution_count": 270,
   "metadata": {},
   "outputs": [
    {
     "name": "stdout",
     "output_type": "stream",
     "text": [
      "True\n",
      "True\n",
      "False\n",
      "False\n",
      "True\n",
      "True\n",
      "False\n",
      "True\n",
      "True\n",
      "False\n",
      "True\n",
      "True\n"
     ]
    }
   ],
   "source": [
    "print('Azure123'.isalnum())  \n",
    "print('Python'.isalpha())  \n",
    "print('ABC123'.isalpha())    \n",
    "print('asddee'.isdigit())   \n",
    "print('786786'.isdigit())   \n",
    "print('abc'.islower())  \n",
    "print('Abc'.islower())  \n",
    "print('abc123'.islower()) \n",
    "print('ABC'.isupper())   \n",
    "print('Learning python is Easy'.istitle())\n",
    "print('Learning Python Is Easy'.istitle())\n",
    "print('    '.isspace()) \n"
   ]
  },
  {
   "cell_type": "code",
   "execution_count": null,
   "metadata": {},
   "outputs": [],
   "source": [
    "#Formatting the Strings: \n",
    "We can format the strings with variable values by using replacement operator {} and format() method. "
   ]
  },
  {
   "cell_type": "code",
   "execution_count": 271,
   "metadata": {},
   "outputs": [
    {
     "name": "stdout",
     "output_type": "stream",
     "text": [
      "Basha 's salary is 10000 and his age is 35\n",
      "Basha 's salary is 10000 and his age is 35\n",
      "Basha 's salary is 10000 and his age is 35\n"
     ]
    }
   ],
   "source": [
    "#example:\n",
    "name='Basha' \n",
    "salary=10000 \n",
    "age=35 \n",
    "print(\"{} 's salary is {} and his age is {}\".format(name,salary,age)) \n",
    "print(\"{0} 's salary is {1} and his age is {2}\".format(name,salary,age)) \n",
    "print(\"{x} 's salary is {y} and his age is {z}\".format(z=age,y=salary,x=name)) \n"
   ]
  },
  {
   "cell_type": "code",
   "execution_count": 272,
   "metadata": {},
   "outputs": [
    {
     "name": "stdout",
     "output_type": "stream",
     "text": [
      "Enter Some String:abc\n",
      "cba\n",
      "cba\n",
      "Enter Some String:ert\n",
      "t\n",
      "tr\n",
      "tre\n"
     ]
    }
   ],
   "source": [
    "#Reverse of String\n",
    "s = input(\"Enter Some String:\")\n",
    "#Method1\n",
    "print(s[::-1])\n",
    "#method2\n",
    "print(''.join(reversed(s)))\n",
    "#Method3\n",
    "s=input(\"Enter Some String:\")\n",
    "i=len(s)-1\n",
    "target=''\n",
    "while i>=0:\n",
    "    target=target+s[i]\n",
    "    i=i-1\n",
    "    print(target)\n"
   ]
  },
  {
   "cell_type": "code",
   "execution_count": 273,
   "metadata": {},
   "outputs": [
    {
     "name": "stdout",
     "output_type": "stream",
     "text": [
      "Enter Some String:ascccc\n",
      "Characters at Even Position: acc\n",
      "Characters at Odd Position: scc\n"
     ]
    }
   ],
   "source": [
    "'''Write a program to print characters at odd position and even position for the given String? '''\n",
    "\n",
    "s=input(\"Enter Some String:\") \n",
    "print(\"Characters at Even Position:\",s[0::2]) \n",
    "print(\"Characters at Odd Position:\",s[1::2]) \n"
   ]
  },
  {
   "cell_type": "code",
   "execution_count": 274,
   "metadata": {},
   "outputs": [
    {
     "name": "stdout",
     "output_type": "stream",
     "text": [
      "H\n",
      "o\n",
      "llo\n"
     ]
    }
   ],
   "source": [
    "#exatra examples\n",
    "myString = \"Hello\"\n",
    "\n",
    "#print first Character\n",
    "print(myString[0])\n",
    "\n",
    "#print last character using negative indexing\n",
    "print(myString[-1])\n",
    "\n",
    "#slicing 2nd to 5th character\n",
    "print(myString[2:5])"
   ]
  },
  {
   "cell_type": "code",
   "execution_count": 275,
   "metadata": {},
   "outputs": [
    {
     "name": "stdout",
     "output_type": "stream",
     "text": [
      "Hello SSR\n",
      "Hello Hello Hello \n"
     ]
    }
   ],
   "source": [
    "#example:\n",
    "s1 = \"Hello \"\n",
    "s2 = \"SSR\"\n",
    "\n",
    "#concatenation of 2 strings\n",
    "print(s1 + s2)\n",
    "\n",
    "#repeat string n times\n",
    "print(s1 * 3)"
   ]
  },
  {
   "cell_type": "code",
   "execution_count": 276,
   "metadata": {},
   "outputs": [
    {
     "data": {
      "text/plain": [
       "['This', 'will', 'split', 'all', 'words', 'in', 'a', 'list']"
      ]
     },
     "execution_count": 276,
     "metadata": {},
     "output_type": "execute_result"
    }
   ],
   "source": [
    "\"This will split all words in a list\".split()"
   ]
  },
  {
   "cell_type": "code",
   "execution_count": 277,
   "metadata": {},
   "outputs": [
    {
     "data": {
      "text/plain": [
       "'This will split all words in a list'"
      ]
     },
     "execution_count": 277,
     "metadata": {},
     "output_type": "execute_result"
    }
   ],
   "source": [
    "' '.join(['This', 'will', 'split', 'all', 'words', 'in', 'a', 'list'])"
   ]
  },
  {
   "cell_type": "code",
   "execution_count": 278,
   "metadata": {},
   "outputs": [
    {
     "data": {
      "text/plain": [
       "5"
      ]
     },
     "execution_count": 278,
     "metadata": {},
     "output_type": "execute_result"
    }
   ],
   "source": [
    "\"Good Morning\".find(\"Mo\")"
   ]
  },
  {
   "cell_type": "code",
   "execution_count": 279,
   "metadata": {},
   "outputs": [
    {
     "name": "stdout",
     "output_type": "stream",
     "text": [
      "Bad morning\n",
      "Good morning\n"
     ]
    }
   ],
   "source": [
    "s1 = \"Bad morning\"\n",
    "\n",
    "s2 = s1.replace(\"Bad\", \"Good\")\n",
    "\n",
    "print(s1)\n",
    "print(s2)"
   ]
  },
  {
   "cell_type": "code",
   "execution_count": 286,
   "metadata": {},
   "outputs": [
    {
     "ename": "TypeError",
     "evalue": "'list' object is not callable",
     "output_type": "error",
     "traceback": [
      "\u001b[1;31m---------------------------------------------------------------------------\u001b[0m",
      "\u001b[1;31mTypeError\u001b[0m                                 Traceback (most recent call last)",
      "\u001b[1;32m<ipython-input-286-a6d5da25465c>\u001b[0m in \u001b[0;36m<module>\u001b[1;34m\u001b[0m\n\u001b[0;32m      8\u001b[0m \u001b[1;33m\u001b[0m\u001b[0m\n\u001b[0;32m      9\u001b[0m \u001b[1;31m#check if the string is equal to its reverse\u001b[0m\u001b[1;33m\u001b[0m\u001b[1;33m\u001b[0m\u001b[1;33m\u001b[0m\u001b[0m\n\u001b[1;32m---> 10\u001b[1;33m \u001b[1;32mif\u001b[0m \u001b[0mlist\u001b[0m\u001b[1;33m(\u001b[0m\u001b[0mmyStr\u001b[0m\u001b[1;33m)\u001b[0m \u001b[1;33m==\u001b[0m \u001b[0mlist\u001b[0m\u001b[1;33m(\u001b[0m\u001b[0mrevStr\u001b[0m\u001b[1;33m)\u001b[0m\u001b[1;33m:\u001b[0m\u001b[1;33m\u001b[0m\u001b[1;33m\u001b[0m\u001b[0m\n\u001b[0m\u001b[0;32m     11\u001b[0m     \u001b[0mprint\u001b[0m\u001b[1;33m(\u001b[0m\u001b[1;34m\"Given String is palindrome\"\u001b[0m\u001b[1;33m)\u001b[0m\u001b[1;33m\u001b[0m\u001b[1;33m\u001b[0m\u001b[0m\n\u001b[0;32m     12\u001b[0m \u001b[1;32melse\u001b[0m\u001b[1;33m:\u001b[0m\u001b[1;33m\u001b[0m\u001b[1;33m\u001b[0m\u001b[0m\n",
      "\u001b[1;31mTypeError\u001b[0m: 'list' object is not callable"
     ]
    }
   ],
   "source": [
    "myStr = \"Madam\"\n",
    "\n",
    "#convert entire string to either lower or upper\n",
    "myStr = myStr.lower()\n",
    "\n",
    "#reverse string\n",
    "revStr = reversed(myStr)\n",
    "\n",
    "#check if the string is equal to its reverse\n",
    "if list(myStr) == list(revStr):\n",
    "    print(\"Given String is palindrome\")\n",
    "else:\n",
    "    print(\"Given String is not palindrome\")\n",
    "\n"
   ]
  },
  {
   "cell_type": "markdown",
   "metadata": {},
   "source": [
    "# Pandas"
   ]
  },
  {
   "cell_type": "code",
   "execution_count": 287,
   "metadata": {},
   "outputs": [],
   "source": [
    "import pandas as pd"
   ]
  },
  {
   "cell_type": "code",
   "execution_count": 290,
   "metadata": {},
   "outputs": [],
   "source": [
    "sals_l = [1500.0, 2000.0, 2200.00]\n",
    "sals_s = pd.Series(sals_l, name='sal')"
   ]
  },
  {
   "cell_type": "code",
   "execution_count": 291,
   "metadata": {},
   "outputs": [
    {
     "data": {
      "text/plain": [
       "0    1500.0\n",
       "1    2000.0\n",
       "2    2200.0\n",
       "Name: sal, dtype: float64"
      ]
     },
     "execution_count": 291,
     "metadata": {},
     "output_type": "execute_result"
    }
   ],
   "source": [
    "sals_s"
   ]
  },
  {
   "cell_type": "code",
   "execution_count": 289,
   "metadata": {},
   "outputs": [],
   "source": [
    "pd.Series?"
   ]
  },
  {
   "cell_type": "code",
   "execution_count": 292,
   "metadata": {},
   "outputs": [],
   "source": [
    "#create DF\n",
    "sals_ld = [(1, 1500.0), (2, 2000.0), (3, 2200.00)]\n",
    "sals_df = pd.DataFrame(sals_ld, columns=['id', 'sal'])"
   ]
  },
  {
   "cell_type": "code",
   "execution_count": 293,
   "metadata": {},
   "outputs": [
    {
     "data": {
      "text/html": [
       "<div>\n",
       "<style scoped>\n",
       "    .dataframe tbody tr th:only-of-type {\n",
       "        vertical-align: middle;\n",
       "    }\n",
       "\n",
       "    .dataframe tbody tr th {\n",
       "        vertical-align: top;\n",
       "    }\n",
       "\n",
       "    .dataframe thead th {\n",
       "        text-align: right;\n",
       "    }\n",
       "</style>\n",
       "<table border=\"1\" class=\"dataframe\">\n",
       "  <thead>\n",
       "    <tr style=\"text-align: right;\">\n",
       "      <th></th>\n",
       "      <th>id</th>\n",
       "      <th>sal</th>\n",
       "    </tr>\n",
       "  </thead>\n",
       "  <tbody>\n",
       "    <tr>\n",
       "      <td>0</td>\n",
       "      <td>1</td>\n",
       "      <td>1500.0</td>\n",
       "    </tr>\n",
       "    <tr>\n",
       "      <td>1</td>\n",
       "      <td>2</td>\n",
       "      <td>2000.0</td>\n",
       "    </tr>\n",
       "    <tr>\n",
       "      <td>2</td>\n",
       "      <td>3</td>\n",
       "      <td>2200.0</td>\n",
       "    </tr>\n",
       "  </tbody>\n",
       "</table>\n",
       "</div>"
      ],
      "text/plain": [
       "   id     sal\n",
       "0   1  1500.0\n",
       "1   2  2000.0\n",
       "2   3  2200.0"
      ]
     },
     "metadata": {},
     "output_type": "display_data"
    }
   ],
   "source": [
    "display(sals_df)"
   ]
  },
  {
   "cell_type": "code",
   "execution_count": 294,
   "metadata": {},
   "outputs": [
    {
     "data": {
      "text/plain": [
       "dict"
      ]
     },
     "execution_count": 294,
     "metadata": {},
     "output_type": "execute_result"
    }
   ],
   "source": [
    "d = {\"JAN\": 10, \"FEB\": 15, \"MAR\": 12, \"APR\": 16}\n",
    "type(d)"
   ]
  },
  {
   "cell_type": "code",
   "execution_count": 295,
   "metadata": {},
   "outputs": [],
   "source": [
    "import pandas as pd\n",
    "s = pd.Series(d)"
   ]
  },
  {
   "cell_type": "code",
   "execution_count": 296,
   "metadata": {},
   "outputs": [],
   "source": [
    "import pandas as pd\n",
    "s = pd.Series(d, name='val')"
   ]
  },
  {
   "cell_type": "code",
   "execution_count": 297,
   "metadata": {},
   "outputs": [
    {
     "data": {
      "text/plain": [
       "JAN    10\n",
       "FEB    15\n",
       "MAR    12\n",
       "APR    16\n",
       "Name: val, dtype: int64"
      ]
     },
     "execution_count": 297,
     "metadata": {},
     "output_type": "execute_result"
    }
   ],
   "source": [
    "s"
   ]
  },
  {
   "cell_type": "code",
   "execution_count": 299,
   "metadata": {},
   "outputs": [
    {
     "data": {
      "text/plain": [
       "10"
      ]
     },
     "execution_count": 299,
     "metadata": {},
     "output_type": "execute_result"
    }
   ],
   "source": [
    "s['FEB']\n",
    "s[0]"
   ]
  },
  {
   "cell_type": "code",
   "execution_count": null,
   "metadata": {},
   "outputs": [],
   "source": []
  }
 ],
 "metadata": {
  "kernelspec": {
   "display_name": "Python 3",
   "language": "python",
   "name": "python3"
  },
  "language_info": {
   "codemirror_mode": {
    "name": "ipython",
    "version": 3
   },
   "file_extension": ".py",
   "mimetype": "text/x-python",
   "name": "python",
   "nbconvert_exporter": "python",
   "pygments_lexer": "ipython3",
   "version": "3.7.4"
  }
 },
 "nbformat": 4,
 "nbformat_minor": 2
}
